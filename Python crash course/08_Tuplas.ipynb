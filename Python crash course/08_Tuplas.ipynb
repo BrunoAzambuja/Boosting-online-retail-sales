{
  "nbformat": 4,
  "nbformat_minor": 0,
  "metadata": {
    "colab": {
      "provenance": []
    },
    "kernelspec": {
      "name": "python3",
      "display_name": "Python 3"
    }
  },
  "cells": [
    {
      "cell_type": "markdown",
      "metadata": {
        "id": "EO0cXXy93Aid"
      },
      "source": [
        "# Tuplas\n",
        "\n",
        "Tuplas são um outro tipo de estrutura, porém é uma estrutura voltada a sequência ordenada de itens imutáveis.\n",
        "\n",
        "Normalmente, são utilizadas para armazenar pedaços de informações que estejam relacionadas.\n",
        "\n",
        "Podem ser acessadas pelo índice, porém não podem ser mudadas. Ou seja, você não consegue alterar, adicionar ou remover itens delas."
      ]
    },
    {
      "cell_type": "code",
      "metadata": {
        "id": "MkugBG8j3iiA"
      },
      "source": [
        "teste = ()"
      ],
      "execution_count": null,
      "outputs": []
    },
    {
      "cell_type": "code",
      "metadata": {
        "id": "BcDid6np3kZv",
        "colab": {
          "base_uri": "https://localhost:8080/",
          "height": 35
        },
        "outputId": "31ac4528-efe5-4c7e-b447-c84853704c3f"
      },
      "source": [
        "type(teste)"
      ],
      "execution_count": null,
      "outputs": [
        {
          "output_type": "execute_result",
          "data": {
            "text/plain": [
              "tuple"
            ]
          },
          "metadata": {
            "tags": []
          },
          "execution_count": 5
        }
      ]
    },
    {
      "cell_type": "markdown",
      "metadata": {
        "id": "ucLboMzRrCAr"
      },
      "source": [
        "Ao criar uma tupla, precisamos levar em consideração que é necessário inserir uma vírgula, mesmo que o intuito seja criar uma lista com um único valor.\n",
        "\n",
        "Já que o Python também entende parênteses como operadores matemáticos, caso tentemos criar uma tupla com um valor sem a vírgula, o Python irá entendê-lo como um objeto do tipo `int`.\n",
        "\n",
        "Apesar dessa não ser uma operação comum, agora você saberá como proceder caso seja necessário."
      ]
    },
    {
      "cell_type": "code",
      "metadata": {
        "id": "WT0C8zfIrWZF",
        "colab": {
          "base_uri": "https://localhost:8080/",
          "height": 35
        },
        "outputId": "56790e07-8ea2-4276-aa03-dccb1ef86733"
      },
      "source": [
        "# tentando criar uma tupla sem vírgula\n",
        "t = (2)\n",
        "type(t)"
      ],
      "execution_count": null,
      "outputs": [
        {
          "output_type": "execute_result",
          "data": {
            "text/plain": [
              "int"
            ]
          },
          "metadata": {
            "tags": []
          },
          "execution_count": 6
        }
      ]
    },
    {
      "cell_type": "code",
      "metadata": {
        "id": "y5p-_WWWrWTq",
        "colab": {
          "base_uri": "https://localhost:8080/",
          "height": 35
        },
        "outputId": "764d5cd8-0837-4aa2-f31a-a78b719f74a2"
      },
      "source": [
        "# criando tupla de um valor, com a vírgula\n",
        "t = (2,)\n",
        "type(t)"
      ],
      "execution_count": null,
      "outputs": [
        {
          "output_type": "execute_result",
          "data": {
            "text/plain": [
              "tuple"
            ]
          },
          "metadata": {
            "tags": []
          },
          "execution_count": 7
        }
      ]
    },
    {
      "cell_type": "code",
      "metadata": {
        "id": "gs_Prmg63lBn",
        "colab": {
          "base_uri": "https://localhost:8080/",
          "height": 35
        },
        "outputId": "4f19e65a-0c20-4f48-92a6-a3dd61f26cba"
      },
      "source": [
        "# exemplos das dimensões de uma caixa\n",
        "caixa_sapato = (18, 28, 10)\n",
        "\n",
        "print(caixa_sapato)"
      ],
      "execution_count": null,
      "outputs": [
        {
          "output_type": "stream",
          "text": [
            "(18, 28, 10)\n"
          ],
          "name": "stdout"
        }
      ]
    },
    {
      "cell_type": "markdown",
      "metadata": {
        "id": "fakBYwPhpBH8"
      },
      "source": [
        "Também podemos associar variáveis a cada valor de uma tupla.\n",
        "\n",
        "Além disso, uma tupla pode ter quantos valores forem necessários."
      ]
    },
    {
      "cell_type": "code",
      "metadata": {
        "id": "8QTCwe3X3s02"
      },
      "source": [
        "# latitude e longitude de brasilia\n",
        "brasilia = (-15.77, -47.92)\n",
        "\n",
        "# associando os valores da tupla em variáveis.\n",
        "lat, lon = brasilia"
      ],
      "execution_count": null,
      "outputs": []
    },
    {
      "cell_type": "code",
      "metadata": {
        "id": "eTbFlzZo3-5W",
        "colab": {
          "base_uri": "https://localhost:8080/",
          "height": 108
        },
        "outputId": "5e6af760-14dd-4a59-dc4c-9c4cdf149476"
      },
      "source": [
        "print(\"Latitude:\", lat)\n",
        "print(\"Longitude:\", lon)\n",
        "\n",
        "print(\"\\n\\n\", brasilia)"
      ],
      "execution_count": null,
      "outputs": [
        {
          "output_type": "stream",
          "text": [
            "Latitude: -15.77\n",
            "Longitude: -47.92\n",
            "\n",
            "\n",
            " (-15.77, -47.92)\n"
          ],
          "name": "stdout"
        }
      ]
    },
    {
      "cell_type": "markdown",
      "metadata": {
        "id": "K7IPoLy_p0zW"
      },
      "source": [
        "### Se tuplas são imutáveis, por que usá-las ao invés de listas?\n",
        "\n",
        "Pode parece estranho criarmos um objeto que não pode ser modificado, mas apesar dessa desvantagem em relação às listas, existem vantagens para o uso das tuplas, como por exemplo:\n",
        "\n",
        "* A execução de um programa é mais rápida ao maniuplar tuplas do que seu equivalente em formato de lista. De qualquer forma, isso não será perceptível caso sejam muito pequenas.\n",
        "* Às vezes nós **não queremos** que os dados sejam modificados. Se uma coleção de valores precisam se manter constantes por todo o ciclo do programa, usar tuplas ao invés de listas proporciona mais segurança contra modificação acidental.\n",
        "* Ao utilizar dicionários, podemos ter dentro deles tuplas, que serão imutáveis, carregando para os dicionários os benefícios do ponto anterior, quando comparamos com as listas."
      ]
    },
    {
      "cell_type": "markdown",
      "metadata": {
        "id": "SDyrNtn-pseJ"
      },
      "source": [
        "Apesar de sua imutabilidade, nós podemos acessá-las e explorá-las.\n",
        "\n",
        "Além disso, tuplas podem conter qualquer tipo de dados, como `int`, `float` e `string`.\n",
        "\n"
      ]
    },
    {
      "cell_type": "code",
      "metadata": {
        "id": "L8Pj0o3C4HO1",
        "colab": {
          "base_uri": "https://localhost:8080/",
          "height": 35
        },
        "outputId": "0142ab84-7cbd-44d3-9769-b1633719ca77"
      },
      "source": [
        "# tupla de strings\n",
        "estados = ('Rio de Janeiro', 'São Paulo', 'Minas Gerais')\n",
        "type(estados)"
      ],
      "execution_count": null,
      "outputs": [
        {
          "output_type": "execute_result",
          "data": {
            "text/plain": [
              "tuple"
            ]
          },
          "metadata": {
            "tags": []
          },
          "execution_count": 15
        }
      ]
    },
    {
      "cell_type": "markdown",
      "metadata": {
        "id": "UzyFxcPGsEjt"
      },
      "source": [
        "Cada item dentro da tupla, possui um índice, que pode ser acessado."
      ]
    },
    {
      "cell_type": "code",
      "metadata": {
        "id": "4vVXgqRxr_Mx",
        "colab": {
          "base_uri": "https://localhost:8080/",
          "height": 54
        },
        "outputId": "cff19828-5953-4f99-f5ff-3ede73fd8a70"
      },
      "source": [
        "# acessando o primeiro item da tupla\n",
        "print(estados[0])\n",
        "\n",
        "# acessando o último item da tupla\n",
        "print(estados[-1])\n"
      ],
      "execution_count": null,
      "outputs": [
        {
          "output_type": "stream",
          "text": [
            "Rio de Janeiro\n",
            "Minas Gerais\n"
          ],
          "name": "stdout"
        }
      ]
    },
    {
      "cell_type": "markdown",
      "metadata": {
        "id": "CRvwbrJysr-U"
      },
      "source": [
        "## Exercícios\n",
        "Apesar de não poderem ser mudados, vamos praticar a criação e o acesso aos valores de uma tupla."
      ]
    },
    {
      "cell_type": "markdown",
      "metadata": {
        "id": "5RChxzFtszz2"
      },
      "source": [
        "### Exercício 1\n",
        "Crie uma tupla com os nomes dos estados da sua região."
      ]
    },
    {
      "cell_type": "code",
      "metadata": {
        "id": "HmBWcCHpsP8i"
      },
      "source": [
        "# resposta\n"
      ],
      "execution_count": null,
      "outputs": []
    },
    {
      "cell_type": "code",
      "metadata": {
        "id": "oB5qoxSgspgK",
        "cellView": "form"
      },
      "source": [
        "#@title Solução\n",
        "centro_oeste = ('Distrito Federal', 'Goiás', 'Mato Grosso', 'Mato Grosso do Sul')\n",
        "type(centro_oeste)"
      ],
      "execution_count": null,
      "outputs": []
    },
    {
      "cell_type": "markdown",
      "metadata": {
        "id": "gVmmEs_ktodb"
      },
      "source": [
        "### Exercício 2\n",
        "Associe cada estado a uma variável e crie uma nova tupla, utilizando essas variáveis."
      ]
    },
    {
      "cell_type": "code",
      "metadata": {
        "id": "Z6zbisNfuG7m"
      },
      "source": [
        "# resposta\n"
      ],
      "execution_count": null,
      "outputs": []
    },
    {
      "cell_type": "code",
      "metadata": {
        "id": "ZZm7nzwWtk4D",
        "cellView": "form"
      },
      "source": [
        "#@title Solução\n",
        "centro_oeste = ('Distrito Federal', 'Goiás', 'Mato Grosso', 'Mato Grosso do Sul')\n",
        "df = centro_oeste[0]\n",
        "go = centro_oeste[1]\n",
        "mt = centro_oeste[2]\n",
        "ms = centro_oeste[3]\n",
        "co = (df,go,mt,ms)\n",
        "print(type(co))\n",
        "print(co)"
      ],
      "execution_count": null,
      "outputs": []
    },
    {
      "cell_type": "markdown",
      "metadata": {
        "id": "rhrPY7pquKXp"
      },
      "source": [
        "### Exercício 3\n",
        "Utilizando as tuplas criadas anteriormente, faça o que se pede em cada célula."
      ]
    },
    {
      "cell_type": "code",
      "metadata": {
        "id": "IT5iIPaNuAbz"
      },
      "source": [
        "# imprima o último item da tupla\n"
      ],
      "execution_count": null,
      "outputs": []
    },
    {
      "cell_type": "code",
      "metadata": {
        "id": "k6kP4ExxucSv"
      },
      "source": [
        "# imprima o item que se encontra no meio da tupla\n"
      ],
      "execution_count": null,
      "outputs": []
    },
    {
      "cell_type": "code",
      "metadata": {
        "id": "srcEJN-Uubml"
      },
      "source": [
        "# imprima os itens da tupla, pulando um\n"
      ],
      "execution_count": null,
      "outputs": []
    },
    {
      "cell_type": "code",
      "metadata": {
        "id": "CH2dRz7ouRxw",
        "cellView": "form"
      },
      "source": [
        "#@title Solução\n",
        "# último\n",
        "print(co[-1])\n",
        "\n",
        "# meio\n",
        "print(co[2])\n",
        "\n",
        "# itens pulando um\n",
        "print(co[::2])"
      ],
      "execution_count": null,
      "outputs": []
    }
  ]
}