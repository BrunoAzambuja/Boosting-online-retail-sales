{
  "nbformat": 4,
  "nbformat_minor": 0,
  "metadata": {
    "colab": {
      "provenance": []
    },
    "kernelspec": {
      "name": "python3",
      "display_name": "Python 3"
    },
    "language_info": {
      "name": "python"
    },
    "widgets": {
      "application/vnd.jupyter.widget-state+json": {
        "8cce40d071ce4ef2980f6479f239d696": {
          "model_module": "@jupyter-widgets/controls",
          "model_name": "VBoxModel",
          "model_module_version": "1.5.0",
          "state": {
            "_view_name": "VBoxView",
            "_dom_classes": [
              "widget-interact"
            ],
            "_model_name": "VBoxModel",
            "_view_module": "@jupyter-widgets/controls",
            "_model_module_version": "1.5.0",
            "_view_count": null,
            "_view_module_version": "1.5.0",
            "box_style": "",
            "layout": "IPY_MODEL_bb0a5e5f5efb479a9dd4c46e3652f955",
            "_model_module": "@jupyter-widgets/controls",
            "children": [
              "IPY_MODEL_56ed44ed57ce466c8a811eb2f6cb5f10",
              "IPY_MODEL_080fd88e44874a9ca9a8fb062cf57592"
            ]
          }
        },
        "bb0a5e5f5efb479a9dd4c46e3652f955": {
          "model_module": "@jupyter-widgets/base",
          "model_name": "LayoutModel",
          "model_module_version": "1.2.0",
          "state": {
            "_view_name": "LayoutView",
            "grid_template_rows": null,
            "right": null,
            "justify_content": null,
            "_view_module": "@jupyter-widgets/base",
            "overflow": null,
            "_model_module_version": "1.2.0",
            "_view_count": null,
            "flex_flow": null,
            "width": null,
            "min_width": null,
            "border": null,
            "align_items": null,
            "bottom": null,
            "_model_module": "@jupyter-widgets/base",
            "top": null,
            "grid_column": null,
            "overflow_y": null,
            "overflow_x": null,
            "grid_auto_flow": null,
            "grid_area": null,
            "grid_template_columns": null,
            "flex": null,
            "_model_name": "LayoutModel",
            "justify_items": null,
            "grid_row": null,
            "max_height": null,
            "align_content": null,
            "visibility": null,
            "align_self": null,
            "height": null,
            "min_height": null,
            "padding": null,
            "grid_auto_rows": null,
            "grid_gap": null,
            "max_width": null,
            "order": null,
            "_view_module_version": "1.2.0",
            "grid_template_areas": null,
            "object_position": null,
            "object_fit": null,
            "grid_auto_columns": null,
            "margin": null,
            "display": null,
            "left": null
          }
        },
        "56ed44ed57ce466c8a811eb2f6cb5f10": {
          "model_module": "@jupyter-widgets/controls",
          "model_name": "IntSliderModel",
          "model_module_version": "1.5.0",
          "state": {
            "_view_name": "IntSliderView",
            "style": "IPY_MODEL_466aaa5c452542d2a4681ff0e5297df2",
            "_dom_classes": [],
            "description": "x",
            "step": 1,
            "_model_name": "IntSliderModel",
            "orientation": "horizontal",
            "max": 10,
            "_view_module": "@jupyter-widgets/controls",
            "_model_module_version": "1.5.0",
            "value": -1,
            "_view_count": null,
            "disabled": false,
            "_view_module_version": "1.5.0",
            "min": -5,
            "continuous_update": true,
            "readout_format": "d",
            "description_tooltip": null,
            "readout": true,
            "_model_module": "@jupyter-widgets/controls",
            "layout": "IPY_MODEL_ed02c925200944348b39b2566cd27cc2"
          }
        },
        "080fd88e44874a9ca9a8fb062cf57592": {
          "model_module": "@jupyter-widgets/output",
          "model_name": "OutputModel",
          "model_module_version": "1.0.0",
          "state": {
            "_view_name": "OutputView",
            "msg_id": "",
            "_dom_classes": [],
            "_model_name": "OutputModel",
            "outputs": [
              {
                "output_type": "display_data",
                "metadata": {
                  "tags": [],
                  "needs_background": "light"
                },
                "image/png": "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\n",
                "text/plain": "<Figure size 432x288 with 1 Axes>"
              }
            ],
            "_view_module": "@jupyter-widgets/output",
            "_model_module_version": "1.0.0",
            "_view_count": null,
            "_view_module_version": "1.0.0",
            "layout": "IPY_MODEL_fea17be725a942c39e629d04dc9b0e8b",
            "_model_module": "@jupyter-widgets/output"
          }
        },
        "466aaa5c452542d2a4681ff0e5297df2": {
          "model_module": "@jupyter-widgets/controls",
          "model_name": "SliderStyleModel",
          "model_module_version": "1.5.0",
          "state": {
            "_view_name": "StyleView",
            "handle_color": null,
            "_model_name": "SliderStyleModel",
            "description_width": "",
            "_view_module": "@jupyter-widgets/base",
            "_model_module_version": "1.5.0",
            "_view_count": null,
            "_view_module_version": "1.2.0",
            "_model_module": "@jupyter-widgets/controls"
          }
        },
        "ed02c925200944348b39b2566cd27cc2": {
          "model_module": "@jupyter-widgets/base",
          "model_name": "LayoutModel",
          "model_module_version": "1.2.0",
          "state": {
            "_view_name": "LayoutView",
            "grid_template_rows": null,
            "right": null,
            "justify_content": null,
            "_view_module": "@jupyter-widgets/base",
            "overflow": null,
            "_model_module_version": "1.2.0",
            "_view_count": null,
            "flex_flow": null,
            "width": null,
            "min_width": null,
            "border": null,
            "align_items": null,
            "bottom": null,
            "_model_module": "@jupyter-widgets/base",
            "top": null,
            "grid_column": null,
            "overflow_y": null,
            "overflow_x": null,
            "grid_auto_flow": null,
            "grid_area": null,
            "grid_template_columns": null,
            "flex": null,
            "_model_name": "LayoutModel",
            "justify_items": null,
            "grid_row": null,
            "max_height": null,
            "align_content": null,
            "visibility": null,
            "align_self": null,
            "height": null,
            "min_height": null,
            "padding": null,
            "grid_auto_rows": null,
            "grid_gap": null,
            "max_width": null,
            "order": null,
            "_view_module_version": "1.2.0",
            "grid_template_areas": null,
            "object_position": null,
            "object_fit": null,
            "grid_auto_columns": null,
            "margin": null,
            "display": null,
            "left": null
          }
        },
        "fea17be725a942c39e629d04dc9b0e8b": {
          "model_module": "@jupyter-widgets/base",
          "model_name": "LayoutModel",
          "model_module_version": "1.2.0",
          "state": {
            "_view_name": "LayoutView",
            "grid_template_rows": null,
            "right": null,
            "justify_content": null,
            "_view_module": "@jupyter-widgets/base",
            "overflow": null,
            "_model_module_version": "1.2.0",
            "_view_count": null,
            "flex_flow": null,
            "width": null,
            "min_width": null,
            "border": null,
            "align_items": null,
            "bottom": null,
            "_model_module": "@jupyter-widgets/base",
            "top": null,
            "grid_column": null,
            "overflow_y": null,
            "overflow_x": null,
            "grid_auto_flow": null,
            "grid_area": null,
            "grid_template_columns": null,
            "flex": null,
            "_model_name": "LayoutModel",
            "justify_items": null,
            "grid_row": null,
            "max_height": null,
            "align_content": null,
            "visibility": null,
            "align_self": null,
            "height": null,
            "min_height": null,
            "padding": null,
            "grid_auto_rows": null,
            "grid_gap": null,
            "max_width": null,
            "order": null,
            "_view_module_version": "1.2.0",
            "grid_template_areas": null,
            "object_position": null,
            "object_fit": null,
            "grid_auto_columns": null,
            "margin": null,
            "display": null,
            "left": null
          }
        },
        "1d187846d16b4e0c8e5dccaeb19ffdba": {
          "model_module": "@jupyter-widgets/controls",
          "model_name": "VBoxModel",
          "model_module_version": "1.5.0",
          "state": {
            "_view_name": "VBoxView",
            "_dom_classes": [
              "widget-interact"
            ],
            "_model_name": "VBoxModel",
            "_view_module": "@jupyter-widgets/controls",
            "_model_module_version": "1.5.0",
            "_view_count": null,
            "_view_module_version": "1.5.0",
            "box_style": "",
            "layout": "IPY_MODEL_d6f9d64df51f432d846d0ea014f54383",
            "_model_module": "@jupyter-widgets/controls",
            "children": [
              "IPY_MODEL_f02585ff95284483a6b7151d39575e66",
              "IPY_MODEL_06b5b7de714e4a63a22b9e15aa492969"
            ]
          }
        },
        "d6f9d64df51f432d846d0ea014f54383": {
          "model_module": "@jupyter-widgets/base",
          "model_name": "LayoutModel",
          "model_module_version": "1.2.0",
          "state": {
            "_view_name": "LayoutView",
            "grid_template_rows": null,
            "right": null,
            "justify_content": null,
            "_view_module": "@jupyter-widgets/base",
            "overflow": null,
            "_model_module_version": "1.2.0",
            "_view_count": null,
            "flex_flow": null,
            "width": null,
            "min_width": null,
            "border": null,
            "align_items": null,
            "bottom": null,
            "_model_module": "@jupyter-widgets/base",
            "top": null,
            "grid_column": null,
            "overflow_y": null,
            "overflow_x": null,
            "grid_auto_flow": null,
            "grid_area": null,
            "grid_template_columns": null,
            "flex": null,
            "_model_name": "LayoutModel",
            "justify_items": null,
            "grid_row": null,
            "max_height": null,
            "align_content": null,
            "visibility": null,
            "align_self": null,
            "height": null,
            "min_height": null,
            "padding": null,
            "grid_auto_rows": null,
            "grid_gap": null,
            "max_width": null,
            "order": null,
            "_view_module_version": "1.2.0",
            "grid_template_areas": null,
            "object_position": null,
            "object_fit": null,
            "grid_auto_columns": null,
            "margin": null,
            "display": null,
            "left": null
          }
        },
        "f02585ff95284483a6b7151d39575e66": {
          "model_module": "@jupyter-widgets/controls",
          "model_name": "CheckboxModel",
          "model_module_version": "1.5.0",
          "state": {
            "_view_name": "CheckboxView",
            "style": "IPY_MODEL_d5c34587fe5043ab964297fc93ad9c3a",
            "_dom_classes": [],
            "description": "x",
            "_model_name": "CheckboxModel",
            "_view_module": "@jupyter-widgets/controls",
            "_model_module_version": "1.5.0",
            "value": false,
            "_view_count": null,
            "disabled": false,
            "_view_module_version": "1.5.0",
            "indent": true,
            "description_tooltip": null,
            "_model_module": "@jupyter-widgets/controls",
            "layout": "IPY_MODEL_04ec56f2ad254fdf84c15512390195ba"
          }
        },
        "06b5b7de714e4a63a22b9e15aa492969": {
          "model_module": "@jupyter-widgets/output",
          "model_name": "OutputModel",
          "model_module_version": "1.0.0",
          "state": {
            "_view_name": "OutputView",
            "msg_id": "",
            "_dom_classes": [],
            "_model_name": "OutputModel",
            "outputs": [
              {
                "output_type": "display_data",
                "metadata": {
                  "tags": [],
                  "needs_background": "light"
                },
                "image/png": "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\n",
                "text/plain": "<Figure size 432x288 with 1 Axes>"
              }
            ],
            "_view_module": "@jupyter-widgets/output",
            "_model_module_version": "1.0.0",
            "_view_count": null,
            "_view_module_version": "1.0.0",
            "layout": "IPY_MODEL_d106620f9b25465cbbc1d98b630f775e",
            "_model_module": "@jupyter-widgets/output"
          }
        },
        "d5c34587fe5043ab964297fc93ad9c3a": {
          "model_module": "@jupyter-widgets/controls",
          "model_name": "DescriptionStyleModel",
          "model_module_version": "1.5.0",
          "state": {
            "_view_name": "StyleView",
            "_model_name": "DescriptionStyleModel",
            "description_width": "",
            "_view_module": "@jupyter-widgets/base",
            "_model_module_version": "1.5.0",
            "_view_count": null,
            "_view_module_version": "1.2.0",
            "_model_module": "@jupyter-widgets/controls"
          }
        },
        "04ec56f2ad254fdf84c15512390195ba": {
          "model_module": "@jupyter-widgets/base",
          "model_name": "LayoutModel",
          "model_module_version": "1.2.0",
          "state": {
            "_view_name": "LayoutView",
            "grid_template_rows": null,
            "right": null,
            "justify_content": null,
            "_view_module": "@jupyter-widgets/base",
            "overflow": null,
            "_model_module_version": "1.2.0",
            "_view_count": null,
            "flex_flow": null,
            "width": null,
            "min_width": null,
            "border": null,
            "align_items": null,
            "bottom": null,
            "_model_module": "@jupyter-widgets/base",
            "top": null,
            "grid_column": null,
            "overflow_y": null,
            "overflow_x": null,
            "grid_auto_flow": null,
            "grid_area": null,
            "grid_template_columns": null,
            "flex": null,
            "_model_name": "LayoutModel",
            "justify_items": null,
            "grid_row": null,
            "max_height": null,
            "align_content": null,
            "visibility": null,
            "align_self": null,
            "height": null,
            "min_height": null,
            "padding": null,
            "grid_auto_rows": null,
            "grid_gap": null,
            "max_width": null,
            "order": null,
            "_view_module_version": "1.2.0",
            "grid_template_areas": null,
            "object_position": null,
            "object_fit": null,
            "grid_auto_columns": null,
            "margin": null,
            "display": null,
            "left": null
          }
        },
        "d106620f9b25465cbbc1d98b630f775e": {
          "model_module": "@jupyter-widgets/base",
          "model_name": "LayoutModel",
          "model_module_version": "1.2.0",
          "state": {
            "_view_name": "LayoutView",
            "grid_template_rows": null,
            "right": null,
            "justify_content": null,
            "_view_module": "@jupyter-widgets/base",
            "overflow": null,
            "_model_module_version": "1.2.0",
            "_view_count": null,
            "flex_flow": null,
            "width": null,
            "min_width": null,
            "border": null,
            "align_items": null,
            "bottom": null,
            "_model_module": "@jupyter-widgets/base",
            "top": null,
            "grid_column": null,
            "overflow_y": null,
            "overflow_x": null,
            "grid_auto_flow": null,
            "grid_area": null,
            "grid_template_columns": null,
            "flex": null,
            "_model_name": "LayoutModel",
            "justify_items": null,
            "grid_row": null,
            "max_height": null,
            "align_content": null,
            "visibility": null,
            "align_self": null,
            "height": null,
            "min_height": null,
            "padding": null,
            "grid_auto_rows": null,
            "grid_gap": null,
            "max_width": null,
            "order": null,
            "_view_module_version": "1.2.0",
            "grid_template_areas": null,
            "object_position": null,
            "object_fit": null,
            "grid_auto_columns": null,
            "margin": null,
            "display": null,
            "left": null
          }
        },
        "18839095191946a3a7c2603d263ec9bf": {
          "model_module": "@jupyter-widgets/controls",
          "model_name": "VBoxModel",
          "model_module_version": "1.5.0",
          "state": {
            "_view_name": "VBoxView",
            "_dom_classes": [
              "widget-interact"
            ],
            "_model_name": "VBoxModel",
            "_view_module": "@jupyter-widgets/controls",
            "_model_module_version": "1.5.0",
            "_view_count": null,
            "_view_module_version": "1.5.0",
            "box_style": "",
            "layout": "IPY_MODEL_44524c6552804058930d0f075cf6203d",
            "_model_module": "@jupyter-widgets/controls",
            "children": [
              "IPY_MODEL_cdcd5e9e24c046d4808c8b9a53d860e9",
              "IPY_MODEL_58258bd53f2a420dab30aca522e32276"
            ]
          }
        },
        "44524c6552804058930d0f075cf6203d": {
          "model_module": "@jupyter-widgets/base",
          "model_name": "LayoutModel",
          "model_module_version": "1.2.0",
          "state": {
            "_view_name": "LayoutView",
            "grid_template_rows": null,
            "right": null,
            "justify_content": null,
            "_view_module": "@jupyter-widgets/base",
            "overflow": null,
            "_model_module_version": "1.2.0",
            "_view_count": null,
            "flex_flow": null,
            "width": null,
            "min_width": null,
            "border": null,
            "align_items": null,
            "bottom": null,
            "_model_module": "@jupyter-widgets/base",
            "top": null,
            "grid_column": null,
            "overflow_y": null,
            "overflow_x": null,
            "grid_auto_flow": null,
            "grid_area": null,
            "grid_template_columns": null,
            "flex": null,
            "_model_name": "LayoutModel",
            "justify_items": null,
            "grid_row": null,
            "max_height": null,
            "align_content": null,
            "visibility": null,
            "align_self": null,
            "height": null,
            "min_height": null,
            "padding": null,
            "grid_auto_rows": null,
            "grid_gap": null,
            "max_width": null,
            "order": null,
            "_view_module_version": "1.2.0",
            "grid_template_areas": null,
            "object_position": null,
            "object_fit": null,
            "grid_auto_columns": null,
            "margin": null,
            "display": null,
            "left": null
          }
        },
        "cdcd5e9e24c046d4808c8b9a53d860e9": {
          "model_module": "@jupyter-widgets/controls",
          "model_name": "TextModel",
          "model_module_version": "1.5.0",
          "state": {
            "_view_name": "TextView",
            "style": "IPY_MODEL_d65feca09b764db18c7ad94144349af8",
            "_dom_classes": [],
            "description": "x",
            "_model_name": "TextModel",
            "placeholder": "​",
            "_view_module": "@jupyter-widgets/controls",
            "_model_module_version": "1.5.0",
            "value": "Título",
            "_view_count": null,
            "disabled": false,
            "_view_module_version": "1.5.0",
            "continuous_update": true,
            "description_tooltip": null,
            "_model_module": "@jupyter-widgets/controls",
            "layout": "IPY_MODEL_6995d0f16ae545169e766438e8d35dcf"
          }
        },
        "58258bd53f2a420dab30aca522e32276": {
          "model_module": "@jupyter-widgets/output",
          "model_name": "OutputModel",
          "model_module_version": "1.0.0",
          "state": {
            "_view_name": "OutputView",
            "msg_id": "",
            "_dom_classes": [],
            "_model_name": "OutputModel",
            "outputs": [
              {
                "output_type": "display_data",
                "metadata": {
                  "tags": [],
                  "needs_background": "light"
                },
                "image/png": "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\n",
                "text/plain": "<Figure size 432x288 with 1 Axes>"
              }
            ],
            "_view_module": "@jupyter-widgets/output",
            "_model_module_version": "1.0.0",
            "_view_count": null,
            "_view_module_version": "1.0.0",
            "layout": "IPY_MODEL_bb5242c10a53456d9fbad90578e6e78c",
            "_model_module": "@jupyter-widgets/output"
          }
        },
        "d65feca09b764db18c7ad94144349af8": {
          "model_module": "@jupyter-widgets/controls",
          "model_name": "DescriptionStyleModel",
          "model_module_version": "1.5.0",
          "state": {
            "_view_name": "StyleView",
            "_model_name": "DescriptionStyleModel",
            "description_width": "",
            "_view_module": "@jupyter-widgets/base",
            "_model_module_version": "1.5.0",
            "_view_count": null,
            "_view_module_version": "1.2.0",
            "_model_module": "@jupyter-widgets/controls"
          }
        },
        "6995d0f16ae545169e766438e8d35dcf": {
          "model_module": "@jupyter-widgets/base",
          "model_name": "LayoutModel",
          "model_module_version": "1.2.0",
          "state": {
            "_view_name": "LayoutView",
            "grid_template_rows": null,
            "right": null,
            "justify_content": null,
            "_view_module": "@jupyter-widgets/base",
            "overflow": null,
            "_model_module_version": "1.2.0",
            "_view_count": null,
            "flex_flow": null,
            "width": null,
            "min_width": null,
            "border": null,
            "align_items": null,
            "bottom": null,
            "_model_module": "@jupyter-widgets/base",
            "top": null,
            "grid_column": null,
            "overflow_y": null,
            "overflow_x": null,
            "grid_auto_flow": null,
            "grid_area": null,
            "grid_template_columns": null,
            "flex": null,
            "_model_name": "LayoutModel",
            "justify_items": null,
            "grid_row": null,
            "max_height": null,
            "align_content": null,
            "visibility": null,
            "align_self": null,
            "height": null,
            "min_height": null,
            "padding": null,
            "grid_auto_rows": null,
            "grid_gap": null,
            "max_width": null,
            "order": null,
            "_view_module_version": "1.2.0",
            "grid_template_areas": null,
            "object_position": null,
            "object_fit": null,
            "grid_auto_columns": null,
            "margin": null,
            "display": null,
            "left": null
          }
        },
        "bb5242c10a53456d9fbad90578e6e78c": {
          "model_module": "@jupyter-widgets/base",
          "model_name": "LayoutModel",
          "model_module_version": "1.2.0",
          "state": {
            "_view_name": "LayoutView",
            "grid_template_rows": null,
            "right": null,
            "justify_content": null,
            "_view_module": "@jupyter-widgets/base",
            "overflow": null,
            "_model_module_version": "1.2.0",
            "_view_count": null,
            "flex_flow": null,
            "width": null,
            "min_width": null,
            "border": null,
            "align_items": null,
            "bottom": null,
            "_model_module": "@jupyter-widgets/base",
            "top": null,
            "grid_column": null,
            "overflow_y": null,
            "overflow_x": null,
            "grid_auto_flow": null,
            "grid_area": null,
            "grid_template_columns": null,
            "flex": null,
            "_model_name": "LayoutModel",
            "justify_items": null,
            "grid_row": null,
            "max_height": null,
            "align_content": null,
            "visibility": null,
            "align_self": null,
            "height": null,
            "min_height": null,
            "padding": null,
            "grid_auto_rows": null,
            "grid_gap": null,
            "max_width": null,
            "order": null,
            "_view_module_version": "1.2.0",
            "grid_template_areas": null,
            "object_position": null,
            "object_fit": null,
            "grid_auto_columns": null,
            "margin": null,
            "display": null,
            "left": null
          }
        },
        "4ce64774ad90489298f27eb26c1abac2": {
          "model_module": "@jupyter-widgets/controls",
          "model_name": "VBoxModel",
          "model_module_version": "1.5.0",
          "state": {
            "_view_name": "VBoxView",
            "_dom_classes": [
              "widget-interact"
            ],
            "_model_name": "VBoxModel",
            "_view_module": "@jupyter-widgets/controls",
            "_model_module_version": "1.5.0",
            "_view_count": null,
            "_view_module_version": "1.5.0",
            "box_style": "",
            "layout": "IPY_MODEL_b6fec773003f4f98af0e7306a3573b5d",
            "_model_module": "@jupyter-widgets/controls",
            "children": [
              "IPY_MODEL_97455931baaa4ef0aff87b711e2ea62d",
              "IPY_MODEL_e6e7d5df69f747919b7d8c254d9d839b",
              "IPY_MODEL_6ab57798d28d4a6683780f55196809e8"
            ]
          }
        },
        "b6fec773003f4f98af0e7306a3573b5d": {
          "model_module": "@jupyter-widgets/base",
          "model_name": "LayoutModel",
          "model_module_version": "1.2.0",
          "state": {
            "_view_name": "LayoutView",
            "grid_template_rows": null,
            "right": null,
            "justify_content": null,
            "_view_module": "@jupyter-widgets/base",
            "overflow": null,
            "_model_module_version": "1.2.0",
            "_view_count": null,
            "flex_flow": null,
            "width": null,
            "min_width": null,
            "border": null,
            "align_items": null,
            "bottom": null,
            "_model_module": "@jupyter-widgets/base",
            "top": null,
            "grid_column": null,
            "overflow_y": null,
            "overflow_x": null,
            "grid_auto_flow": null,
            "grid_area": null,
            "grid_template_columns": null,
            "flex": null,
            "_model_name": "LayoutModel",
            "justify_items": null,
            "grid_row": null,
            "max_height": null,
            "align_content": null,
            "visibility": null,
            "align_self": null,
            "height": null,
            "min_height": null,
            "padding": null,
            "grid_auto_rows": null,
            "grid_gap": null,
            "max_width": null,
            "order": null,
            "_view_module_version": "1.2.0",
            "grid_template_areas": null,
            "object_position": null,
            "object_fit": null,
            "grid_auto_columns": null,
            "margin": null,
            "display": null,
            "left": null
          }
        },
        "97455931baaa4ef0aff87b711e2ea62d": {
          "model_module": "@jupyter-widgets/controls",
          "model_name": "IntSliderModel",
          "model_module_version": "1.5.0",
          "state": {
            "_view_name": "IntSliderView",
            "style": "IPY_MODEL_24f33c931bad4b72927a7ac5557485ee",
            "_dom_classes": [],
            "description": "a",
            "step": 1,
            "_model_name": "IntSliderModel",
            "orientation": "horizontal",
            "max": 3,
            "_view_module": "@jupyter-widgets/controls",
            "_model_module_version": "1.5.0",
            "value": 1,
            "_view_count": null,
            "disabled": false,
            "_view_module_version": "1.5.0",
            "min": -1,
            "continuous_update": true,
            "readout_format": "d",
            "description_tooltip": null,
            "readout": true,
            "_model_module": "@jupyter-widgets/controls",
            "layout": "IPY_MODEL_966f550ba423447ba39f5e08500da53d"
          }
        },
        "e6e7d5df69f747919b7d8c254d9d839b": {
          "model_module": "@jupyter-widgets/controls",
          "model_name": "IntSliderModel",
          "model_module_version": "1.5.0",
          "state": {
            "_view_name": "IntSliderView",
            "style": "IPY_MODEL_603988bf510d4fa29f617c6a2a576d3f",
            "_dom_classes": [],
            "description": "b",
            "step": 1,
            "_model_name": "IntSliderModel",
            "orientation": "horizontal",
            "max": 9,
            "_view_module": "@jupyter-widgets/controls",
            "_model_module_version": "1.5.0",
            "value": 3,
            "_view_count": null,
            "disabled": false,
            "_view_module_version": "1.5.0",
            "min": -3,
            "continuous_update": true,
            "readout_format": "d",
            "description_tooltip": null,
            "readout": true,
            "_model_module": "@jupyter-widgets/controls",
            "layout": "IPY_MODEL_9dcd8c4003b64186af6867f836f89ad9"
          }
        },
        "6ab57798d28d4a6683780f55196809e8": {
          "model_module": "@jupyter-widgets/output",
          "model_name": "OutputModel",
          "model_module_version": "1.0.0",
          "state": {
            "_view_name": "OutputView",
            "msg_id": "",
            "_dom_classes": [],
            "_model_name": "OutputModel",
            "outputs": [
              {
                "output_type": "display_data",
                "metadata": {
                  "tags": [],
                  "needs_background": "light"
                },
                "image/png": "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\n",
                "text/plain": "<Figure size 432x288 with 1 Axes>"
              }
            ],
            "_view_module": "@jupyter-widgets/output",
            "_model_module_version": "1.0.0",
            "_view_count": null,
            "_view_module_version": "1.0.0",
            "layout": "IPY_MODEL_47428384c24c4fbe9c5dfb511e1fe10e",
            "_model_module": "@jupyter-widgets/output"
          }
        },
        "24f33c931bad4b72927a7ac5557485ee": {
          "model_module": "@jupyter-widgets/controls",
          "model_name": "SliderStyleModel",
          "model_module_version": "1.5.0",
          "state": {
            "_view_name": "StyleView",
            "handle_color": null,
            "_model_name": "SliderStyleModel",
            "description_width": "",
            "_view_module": "@jupyter-widgets/base",
            "_model_module_version": "1.5.0",
            "_view_count": null,
            "_view_module_version": "1.2.0",
            "_model_module": "@jupyter-widgets/controls"
          }
        },
        "966f550ba423447ba39f5e08500da53d": {
          "model_module": "@jupyter-widgets/base",
          "model_name": "LayoutModel",
          "model_module_version": "1.2.0",
          "state": {
            "_view_name": "LayoutView",
            "grid_template_rows": null,
            "right": null,
            "justify_content": null,
            "_view_module": "@jupyter-widgets/base",
            "overflow": null,
            "_model_module_version": "1.2.0",
            "_view_count": null,
            "flex_flow": null,
            "width": null,
            "min_width": null,
            "border": null,
            "align_items": null,
            "bottom": null,
            "_model_module": "@jupyter-widgets/base",
            "top": null,
            "grid_column": null,
            "overflow_y": null,
            "overflow_x": null,
            "grid_auto_flow": null,
            "grid_area": null,
            "grid_template_columns": null,
            "flex": null,
            "_model_name": "LayoutModel",
            "justify_items": null,
            "grid_row": null,
            "max_height": null,
            "align_content": null,
            "visibility": null,
            "align_self": null,
            "height": null,
            "min_height": null,
            "padding": null,
            "grid_auto_rows": null,
            "grid_gap": null,
            "max_width": null,
            "order": null,
            "_view_module_version": "1.2.0",
            "grid_template_areas": null,
            "object_position": null,
            "object_fit": null,
            "grid_auto_columns": null,
            "margin": null,
            "display": null,
            "left": null
          }
        },
        "603988bf510d4fa29f617c6a2a576d3f": {
          "model_module": "@jupyter-widgets/controls",
          "model_name": "SliderStyleModel",
          "model_module_version": "1.5.0",
          "state": {
            "_view_name": "StyleView",
            "handle_color": null,
            "_model_name": "SliderStyleModel",
            "description_width": "",
            "_view_module": "@jupyter-widgets/base",
            "_model_module_version": "1.5.0",
            "_view_count": null,
            "_view_module_version": "1.2.0",
            "_model_module": "@jupyter-widgets/controls"
          }
        },
        "9dcd8c4003b64186af6867f836f89ad9": {
          "model_module": "@jupyter-widgets/base",
          "model_name": "LayoutModel",
          "model_module_version": "1.2.0",
          "state": {
            "_view_name": "LayoutView",
            "grid_template_rows": null,
            "right": null,
            "justify_content": null,
            "_view_module": "@jupyter-widgets/base",
            "overflow": null,
            "_model_module_version": "1.2.0",
            "_view_count": null,
            "flex_flow": null,
            "width": null,
            "min_width": null,
            "border": null,
            "align_items": null,
            "bottom": null,
            "_model_module": "@jupyter-widgets/base",
            "top": null,
            "grid_column": null,
            "overflow_y": null,
            "overflow_x": null,
            "grid_auto_flow": null,
            "grid_area": null,
            "grid_template_columns": null,
            "flex": null,
            "_model_name": "LayoutModel",
            "justify_items": null,
            "grid_row": null,
            "max_height": null,
            "align_content": null,
            "visibility": null,
            "align_self": null,
            "height": null,
            "min_height": null,
            "padding": null,
            "grid_auto_rows": null,
            "grid_gap": null,
            "max_width": null,
            "order": null,
            "_view_module_version": "1.2.0",
            "grid_template_areas": null,
            "object_position": null,
            "object_fit": null,
            "grid_auto_columns": null,
            "margin": null,
            "display": null,
            "left": null
          }
        },
        "47428384c24c4fbe9c5dfb511e1fe10e": {
          "model_module": "@jupyter-widgets/base",
          "model_name": "LayoutModel",
          "model_module_version": "1.2.0",
          "state": {
            "_view_name": "LayoutView",
            "grid_template_rows": null,
            "right": null,
            "justify_content": null,
            "_view_module": "@jupyter-widgets/base",
            "overflow": null,
            "_model_module_version": "1.2.0",
            "_view_count": null,
            "flex_flow": null,
            "width": null,
            "min_width": null,
            "border": null,
            "align_items": null,
            "bottom": null,
            "_model_module": "@jupyter-widgets/base",
            "top": null,
            "grid_column": null,
            "overflow_y": null,
            "overflow_x": null,
            "grid_auto_flow": null,
            "grid_area": null,
            "grid_template_columns": null,
            "flex": null,
            "_model_name": "LayoutModel",
            "justify_items": null,
            "grid_row": null,
            "max_height": null,
            "align_content": null,
            "visibility": null,
            "align_self": null,
            "height": null,
            "min_height": null,
            "padding": null,
            "grid_auto_rows": null,
            "grid_gap": null,
            "max_width": null,
            "order": null,
            "_view_module_version": "1.2.0",
            "grid_template_areas": null,
            "object_position": null,
            "object_fit": null,
            "grid_auto_columns": null,
            "margin": null,
            "display": null,
            "left": null
          }
        },
        "a3b5f9b412f94d3e8f4af39023bf3081": {
          "model_module": "@jupyter-widgets/controls",
          "model_name": "VBoxModel",
          "model_module_version": "1.5.0",
          "state": {
            "_view_name": "VBoxView",
            "_dom_classes": [
              "widget-interact"
            ],
            "_model_name": "VBoxModel",
            "_view_module": "@jupyter-widgets/controls",
            "_model_module_version": "1.5.0",
            "_view_count": null,
            "_view_module_version": "1.5.0",
            "box_style": "",
            "layout": "IPY_MODEL_bb0b01a23d744eeeb6e444a44ed7e34f",
            "_model_module": "@jupyter-widgets/controls",
            "children": [
              "IPY_MODEL_9af3f8960eef43648f15b1254cffb99a",
              "IPY_MODEL_5d7350d7e57047f695f48bf93697b874"
            ]
          }
        },
        "bb0b01a23d744eeeb6e444a44ed7e34f": {
          "model_module": "@jupyter-widgets/base",
          "model_name": "LayoutModel",
          "model_module_version": "1.2.0",
          "state": {
            "_view_name": "LayoutView",
            "grid_template_rows": null,
            "right": null,
            "justify_content": null,
            "_view_module": "@jupyter-widgets/base",
            "overflow": null,
            "_model_module_version": "1.2.0",
            "_view_count": null,
            "flex_flow": null,
            "width": null,
            "min_width": null,
            "border": null,
            "align_items": null,
            "bottom": null,
            "_model_module": "@jupyter-widgets/base",
            "top": null,
            "grid_column": null,
            "overflow_y": null,
            "overflow_x": null,
            "grid_auto_flow": null,
            "grid_area": null,
            "grid_template_columns": null,
            "flex": null,
            "_model_name": "LayoutModel",
            "justify_items": null,
            "grid_row": null,
            "max_height": null,
            "align_content": null,
            "visibility": null,
            "align_self": null,
            "height": null,
            "min_height": null,
            "padding": null,
            "grid_auto_rows": null,
            "grid_gap": null,
            "max_width": null,
            "order": null,
            "_view_module_version": "1.2.0",
            "grid_template_areas": null,
            "object_position": null,
            "object_fit": null,
            "grid_auto_columns": null,
            "margin": null,
            "display": null,
            "left": null
          }
        },
        "9af3f8960eef43648f15b1254cffb99a": {
          "model_module": "@jupyter-widgets/controls",
          "model_name": "IntSliderModel",
          "model_module_version": "1.5.0",
          "state": {
            "_view_name": "IntSliderView",
            "style": "IPY_MODEL_b14aa1d7c0f14204955faf254c043448",
            "_dom_classes": [],
            "description": "a",
            "step": 1,
            "_model_name": "IntSliderModel",
            "orientation": "horizontal",
            "max": 3,
            "_view_module": "@jupyter-widgets/controls",
            "_model_module_version": "1.5.0",
            "value": -1,
            "_view_count": null,
            "disabled": false,
            "_view_module_version": "1.5.0",
            "min": -1,
            "continuous_update": true,
            "readout_format": "d",
            "description_tooltip": null,
            "readout": true,
            "_model_module": "@jupyter-widgets/controls",
            "layout": "IPY_MODEL_3ace5dc2782c431195330201ee9701f8"
          }
        },
        "5d7350d7e57047f695f48bf93697b874": {
          "model_module": "@jupyter-widgets/output",
          "model_name": "OutputModel",
          "model_module_version": "1.0.0",
          "state": {
            "_view_name": "OutputView",
            "msg_id": "",
            "_dom_classes": [],
            "_model_name": "OutputModel",
            "outputs": [
              {
                "output_type": "display_data",
                "metadata": {
                  "tags": [],
                  "needs_background": "light"
                },
                "image/png": "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\n",
                "text/plain": "<Figure size 432x288 with 1 Axes>"
              }
            ],
            "_view_module": "@jupyter-widgets/output",
            "_model_module_version": "1.0.0",
            "_view_count": null,
            "_view_module_version": "1.0.0",
            "layout": "IPY_MODEL_bdb03b141d02426088d8a60f6882a29a",
            "_model_module": "@jupyter-widgets/output"
          }
        },
        "b14aa1d7c0f14204955faf254c043448": {
          "model_module": "@jupyter-widgets/controls",
          "model_name": "SliderStyleModel",
          "model_module_version": "1.5.0",
          "state": {
            "_view_name": "StyleView",
            "handle_color": null,
            "_model_name": "SliderStyleModel",
            "description_width": "",
            "_view_module": "@jupyter-widgets/base",
            "_model_module_version": "1.5.0",
            "_view_count": null,
            "_view_module_version": "1.2.0",
            "_model_module": "@jupyter-widgets/controls"
          }
        },
        "3ace5dc2782c431195330201ee9701f8": {
          "model_module": "@jupyter-widgets/base",
          "model_name": "LayoutModel",
          "model_module_version": "1.2.0",
          "state": {
            "_view_name": "LayoutView",
            "grid_template_rows": null,
            "right": null,
            "justify_content": null,
            "_view_module": "@jupyter-widgets/base",
            "overflow": null,
            "_model_module_version": "1.2.0",
            "_view_count": null,
            "flex_flow": null,
            "width": null,
            "min_width": null,
            "border": null,
            "align_items": null,
            "bottom": null,
            "_model_module": "@jupyter-widgets/base",
            "top": null,
            "grid_column": null,
            "overflow_y": null,
            "overflow_x": null,
            "grid_auto_flow": null,
            "grid_area": null,
            "grid_template_columns": null,
            "flex": null,
            "_model_name": "LayoutModel",
            "justify_items": null,
            "grid_row": null,
            "max_height": null,
            "align_content": null,
            "visibility": null,
            "align_self": null,
            "height": null,
            "min_height": null,
            "padding": null,
            "grid_auto_rows": null,
            "grid_gap": null,
            "max_width": null,
            "order": null,
            "_view_module_version": "1.2.0",
            "grid_template_areas": null,
            "object_position": null,
            "object_fit": null,
            "grid_auto_columns": null,
            "margin": null,
            "display": null,
            "left": null
          }
        },
        "bdb03b141d02426088d8a60f6882a29a": {
          "model_module": "@jupyter-widgets/base",
          "model_name": "LayoutModel",
          "model_module_version": "1.2.0",
          "state": {
            "_view_name": "LayoutView",
            "grid_template_rows": null,
            "right": null,
            "justify_content": null,
            "_view_module": "@jupyter-widgets/base",
            "overflow": null,
            "_model_module_version": "1.2.0",
            "_view_count": null,
            "flex_flow": null,
            "width": null,
            "min_width": null,
            "border": null,
            "align_items": null,
            "bottom": null,
            "_model_module": "@jupyter-widgets/base",
            "top": null,
            "grid_column": null,
            "overflow_y": null,
            "overflow_x": null,
            "grid_auto_flow": null,
            "grid_area": null,
            "grid_template_columns": null,
            "flex": null,
            "_model_name": "LayoutModel",
            "justify_items": null,
            "grid_row": null,
            "max_height": null,
            "align_content": null,
            "visibility": null,
            "align_self": null,
            "height": null,
            "min_height": null,
            "padding": null,
            "grid_auto_rows": null,
            "grid_gap": null,
            "max_width": null,
            "order": null,
            "_view_module_version": "1.2.0",
            "grid_template_areas": null,
            "object_position": null,
            "object_fit": null,
            "grid_auto_columns": null,
            "margin": null,
            "display": null,
            "left": null
          }
        },
        "d61acdc598124bafb7a7255f15fc6115": {
          "model_module": "@jupyter-widgets/controls",
          "model_name": "VBoxModel",
          "model_module_version": "1.5.0",
          "state": {
            "_view_name": "VBoxView",
            "_dom_classes": [
              "widget-interact"
            ],
            "_model_name": "VBoxModel",
            "_view_module": "@jupyter-widgets/controls",
            "_model_module_version": "1.5.0",
            "_view_count": null,
            "_view_module_version": "1.5.0",
            "box_style": "",
            "layout": "IPY_MODEL_976612d1fc2b4ec088fb5f1bf1117b40",
            "_model_module": "@jupyter-widgets/controls",
            "children": [
              "IPY_MODEL_1dfdbc117298438fb8ab95870db4664b",
              "IPY_MODEL_56b31f854cd24e73b8980dd909049740"
            ]
          }
        },
        "976612d1fc2b4ec088fb5f1bf1117b40": {
          "model_module": "@jupyter-widgets/base",
          "model_name": "LayoutModel",
          "model_module_version": "1.2.0",
          "state": {
            "_view_name": "LayoutView",
            "grid_template_rows": null,
            "right": null,
            "justify_content": null,
            "_view_module": "@jupyter-widgets/base",
            "overflow": null,
            "_model_module_version": "1.2.0",
            "_view_count": null,
            "flex_flow": null,
            "width": null,
            "min_width": null,
            "border": null,
            "align_items": null,
            "bottom": null,
            "_model_module": "@jupyter-widgets/base",
            "top": null,
            "grid_column": null,
            "overflow_y": null,
            "overflow_x": null,
            "grid_auto_flow": null,
            "grid_area": null,
            "grid_template_columns": null,
            "flex": null,
            "_model_name": "LayoutModel",
            "justify_items": null,
            "grid_row": null,
            "max_height": null,
            "align_content": null,
            "visibility": null,
            "align_self": null,
            "height": null,
            "min_height": null,
            "padding": null,
            "grid_auto_rows": null,
            "grid_gap": null,
            "max_width": null,
            "order": null,
            "_view_module_version": "1.2.0",
            "grid_template_areas": null,
            "object_position": null,
            "object_fit": null,
            "grid_auto_columns": null,
            "margin": null,
            "display": null,
            "left": null
          }
        },
        "1dfdbc117298438fb8ab95870db4664b": {
          "model_module": "@jupyter-widgets/controls",
          "model_name": "IntSliderModel",
          "model_module_version": "1.5.0",
          "state": {
            "_view_name": "IntSliderView",
            "style": "IPY_MODEL_e2ab3e659081465eb0f6faba7554faf8",
            "_dom_classes": [],
            "description": "a",
            "step": 1,
            "_model_name": "IntSliderModel",
            "orientation": "horizontal",
            "max": 3,
            "_view_module": "@jupyter-widgets/controls",
            "_model_module_version": "1.5.0",
            "value": -1,
            "_view_count": null,
            "disabled": false,
            "_view_module_version": "1.5.0",
            "min": -1,
            "continuous_update": true,
            "readout_format": "d",
            "description_tooltip": null,
            "readout": true,
            "_model_module": "@jupyter-widgets/controls",
            "layout": "IPY_MODEL_0e6cc5e734d84d529da0999aea620533"
          }
        },
        "56b31f854cd24e73b8980dd909049740": {
          "model_module": "@jupyter-widgets/output",
          "model_name": "OutputModel",
          "model_module_version": "1.0.0",
          "state": {
            "_view_name": "OutputView",
            "msg_id": "",
            "_dom_classes": [],
            "_model_name": "OutputModel",
            "outputs": [
              {
                "output_type": "display_data",
                "metadata": {
                  "tags": [],
                  "needs_background": "light"
                },
                "image/png": "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\n",
                "text/plain": "<Figure size 432x288 with 1 Axes>"
              }
            ],
            "_view_module": "@jupyter-widgets/output",
            "_model_module_version": "1.0.0",
            "_view_count": null,
            "_view_module_version": "1.0.0",
            "layout": "IPY_MODEL_15d40f4b5da14fe7ab7f276b1c81d31e",
            "_model_module": "@jupyter-widgets/output"
          }
        },
        "e2ab3e659081465eb0f6faba7554faf8": {
          "model_module": "@jupyter-widgets/controls",
          "model_name": "SliderStyleModel",
          "model_module_version": "1.5.0",
          "state": {
            "_view_name": "StyleView",
            "handle_color": null,
            "_model_name": "SliderStyleModel",
            "description_width": "",
            "_view_module": "@jupyter-widgets/base",
            "_model_module_version": "1.5.0",
            "_view_count": null,
            "_view_module_version": "1.2.0",
            "_model_module": "@jupyter-widgets/controls"
          }
        },
        "0e6cc5e734d84d529da0999aea620533": {
          "model_module": "@jupyter-widgets/base",
          "model_name": "LayoutModel",
          "model_module_version": "1.2.0",
          "state": {
            "_view_name": "LayoutView",
            "grid_template_rows": null,
            "right": null,
            "justify_content": null,
            "_view_module": "@jupyter-widgets/base",
            "overflow": null,
            "_model_module_version": "1.2.0",
            "_view_count": null,
            "flex_flow": null,
            "width": null,
            "min_width": null,
            "border": null,
            "align_items": null,
            "bottom": null,
            "_model_module": "@jupyter-widgets/base",
            "top": null,
            "grid_column": null,
            "overflow_y": null,
            "overflow_x": null,
            "grid_auto_flow": null,
            "grid_area": null,
            "grid_template_columns": null,
            "flex": null,
            "_model_name": "LayoutModel",
            "justify_items": null,
            "grid_row": null,
            "max_height": null,
            "align_content": null,
            "visibility": null,
            "align_self": null,
            "height": null,
            "min_height": null,
            "padding": null,
            "grid_auto_rows": null,
            "grid_gap": null,
            "max_width": null,
            "order": null,
            "_view_module_version": "1.2.0",
            "grid_template_areas": null,
            "object_position": null,
            "object_fit": null,
            "grid_auto_columns": null,
            "margin": null,
            "display": null,
            "left": null
          }
        },
        "15d40f4b5da14fe7ab7f276b1c81d31e": {
          "model_module": "@jupyter-widgets/base",
          "model_name": "LayoutModel",
          "model_module_version": "1.2.0",
          "state": {
            "_view_name": "LayoutView",
            "grid_template_rows": null,
            "right": null,
            "justify_content": null,
            "_view_module": "@jupyter-widgets/base",
            "overflow": null,
            "_model_module_version": "1.2.0",
            "_view_count": null,
            "flex_flow": null,
            "width": null,
            "min_width": null,
            "border": null,
            "align_items": null,
            "bottom": null,
            "_model_module": "@jupyter-widgets/base",
            "top": null,
            "grid_column": null,
            "overflow_y": null,
            "overflow_x": null,
            "grid_auto_flow": null,
            "grid_area": null,
            "grid_template_columns": null,
            "flex": null,
            "_model_name": "LayoutModel",
            "justify_items": null,
            "grid_row": null,
            "max_height": null,
            "align_content": null,
            "visibility": null,
            "align_self": null,
            "height": null,
            "min_height": null,
            "padding": null,
            "grid_auto_rows": null,
            "grid_gap": null,
            "max_width": null,
            "order": null,
            "_view_module_version": "1.2.0",
            "grid_template_areas": null,
            "object_position": null,
            "object_fit": null,
            "grid_auto_columns": null,
            "margin": null,
            "display": null,
            "left": null
          }
        },
        "1a71edc0b482462e9bcfe3deeedf79b1": {
          "model_module": "@jupyter-widgets/controls",
          "model_name": "VBoxModel",
          "model_module_version": "1.5.0",
          "state": {
            "_view_name": "VBoxView",
            "_dom_classes": [
              "widget-interact"
            ],
            "_model_name": "VBoxModel",
            "_view_module": "@jupyter-widgets/controls",
            "_model_module_version": "1.5.0",
            "_view_count": null,
            "_view_module_version": "1.5.0",
            "box_style": "",
            "layout": "IPY_MODEL_e1037b9030c943728add84f55674dee2",
            "_model_module": "@jupyter-widgets/controls",
            "children": [
              "IPY_MODEL_c47e123b7b20494da9d71a3e74ee93b3",
              "IPY_MODEL_95a82d614fec45c3ba14da00b368ff92"
            ]
          }
        },
        "e1037b9030c943728add84f55674dee2": {
          "model_module": "@jupyter-widgets/base",
          "model_name": "LayoutModel",
          "model_module_version": "1.2.0",
          "state": {
            "_view_name": "LayoutView",
            "grid_template_rows": null,
            "right": null,
            "justify_content": null,
            "_view_module": "@jupyter-widgets/base",
            "overflow": null,
            "_model_module_version": "1.2.0",
            "_view_count": null,
            "flex_flow": null,
            "width": null,
            "min_width": null,
            "border": null,
            "align_items": null,
            "bottom": null,
            "_model_module": "@jupyter-widgets/base",
            "top": null,
            "grid_column": null,
            "overflow_y": null,
            "overflow_x": null,
            "grid_auto_flow": null,
            "grid_area": null,
            "grid_template_columns": null,
            "flex": null,
            "_model_name": "LayoutModel",
            "justify_items": null,
            "grid_row": null,
            "max_height": null,
            "align_content": null,
            "visibility": null,
            "align_self": null,
            "height": null,
            "min_height": null,
            "padding": null,
            "grid_auto_rows": null,
            "grid_gap": null,
            "max_width": null,
            "order": null,
            "_view_module_version": "1.2.0",
            "grid_template_areas": null,
            "object_position": null,
            "object_fit": null,
            "grid_auto_columns": null,
            "margin": null,
            "display": null,
            "left": null
          }
        },
        "c47e123b7b20494da9d71a3e74ee93b3": {
          "model_module": "@jupyter-widgets/controls",
          "model_name": "DropdownModel",
          "model_module_version": "1.5.0",
          "state": {
            "_options_labels": [
              "Red",
              "Blue",
              "Green"
            ],
            "_view_name": "DropdownView",
            "style": "IPY_MODEL_80fc5fab26124c88a6fc1ef5a2a7d67c",
            "_dom_classes": [],
            "description": "color",
            "_model_name": "DropdownModel",
            "index": 2,
            "_view_module": "@jupyter-widgets/controls",
            "_model_module_version": "1.5.0",
            "_view_count": null,
            "disabled": false,
            "_view_module_version": "1.5.0",
            "description_tooltip": null,
            "_model_module": "@jupyter-widgets/controls",
            "layout": "IPY_MODEL_b107f397d34942a38b83281575167036"
          }
        },
        "95a82d614fec45c3ba14da00b368ff92": {
          "model_module": "@jupyter-widgets/output",
          "model_name": "OutputModel",
          "model_module_version": "1.0.0",
          "state": {
            "_view_name": "OutputView",
            "msg_id": "",
            "_dom_classes": [],
            "_model_name": "OutputModel",
            "outputs": [
              {
                "output_type": "display_data",
                "metadata": {
                  "tags": [],
                  "needs_background": "light"
                },
                "image/png": "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\n",
                "text/plain": "<Figure size 432x288 with 1 Axes>"
              }
            ],
            "_view_module": "@jupyter-widgets/output",
            "_model_module_version": "1.0.0",
            "_view_count": null,
            "_view_module_version": "1.0.0",
            "layout": "IPY_MODEL_a588ecc540244e41b0ee49a75b7a71f4",
            "_model_module": "@jupyter-widgets/output"
          }
        },
        "80fc5fab26124c88a6fc1ef5a2a7d67c": {
          "model_module": "@jupyter-widgets/controls",
          "model_name": "DescriptionStyleModel",
          "model_module_version": "1.5.0",
          "state": {
            "_view_name": "StyleView",
            "_model_name": "DescriptionStyleModel",
            "description_width": "",
            "_view_module": "@jupyter-widgets/base",
            "_model_module_version": "1.5.0",
            "_view_count": null,
            "_view_module_version": "1.2.0",
            "_model_module": "@jupyter-widgets/controls"
          }
        },
        "b107f397d34942a38b83281575167036": {
          "model_module": "@jupyter-widgets/base",
          "model_name": "LayoutModel",
          "model_module_version": "1.2.0",
          "state": {
            "_view_name": "LayoutView",
            "grid_template_rows": null,
            "right": null,
            "justify_content": null,
            "_view_module": "@jupyter-widgets/base",
            "overflow": null,
            "_model_module_version": "1.2.0",
            "_view_count": null,
            "flex_flow": null,
            "width": null,
            "min_width": null,
            "border": null,
            "align_items": null,
            "bottom": null,
            "_model_module": "@jupyter-widgets/base",
            "top": null,
            "grid_column": null,
            "overflow_y": null,
            "overflow_x": null,
            "grid_auto_flow": null,
            "grid_area": null,
            "grid_template_columns": null,
            "flex": null,
            "_model_name": "LayoutModel",
            "justify_items": null,
            "grid_row": null,
            "max_height": null,
            "align_content": null,
            "visibility": null,
            "align_self": null,
            "height": null,
            "min_height": null,
            "padding": null,
            "grid_auto_rows": null,
            "grid_gap": null,
            "max_width": null,
            "order": null,
            "_view_module_version": "1.2.0",
            "grid_template_areas": null,
            "object_position": null,
            "object_fit": null,
            "grid_auto_columns": null,
            "margin": null,
            "display": null,
            "left": null
          }
        },
        "a588ecc540244e41b0ee49a75b7a71f4": {
          "model_module": "@jupyter-widgets/base",
          "model_name": "LayoutModel",
          "model_module_version": "1.2.0",
          "state": {
            "_view_name": "LayoutView",
            "grid_template_rows": null,
            "right": null,
            "justify_content": null,
            "_view_module": "@jupyter-widgets/base",
            "overflow": null,
            "_model_module_version": "1.2.0",
            "_view_count": null,
            "flex_flow": null,
            "width": null,
            "min_width": null,
            "border": null,
            "align_items": null,
            "bottom": null,
            "_model_module": "@jupyter-widgets/base",
            "top": null,
            "grid_column": null,
            "overflow_y": null,
            "overflow_x": null,
            "grid_auto_flow": null,
            "grid_area": null,
            "grid_template_columns": null,
            "flex": null,
            "_model_name": "LayoutModel",
            "justify_items": null,
            "grid_row": null,
            "max_height": null,
            "align_content": null,
            "visibility": null,
            "align_self": null,
            "height": null,
            "min_height": null,
            "padding": null,
            "grid_auto_rows": null,
            "grid_gap": null,
            "max_width": null,
            "order": null,
            "_view_module_version": "1.2.0",
            "grid_template_areas": null,
            "object_position": null,
            "object_fit": null,
            "grid_auto_columns": null,
            "margin": null,
            "display": null,
            "left": null
          }
        },
        "c27840992b014e5eb243b963ac0c9b43": {
          "model_module": "@jupyter-widgets/controls",
          "model_name": "VBoxModel",
          "model_module_version": "1.5.0",
          "state": {
            "_view_name": "VBoxView",
            "_dom_classes": [
              "widget-interact"
            ],
            "_model_name": "VBoxModel",
            "_view_module": "@jupyter-widgets/controls",
            "_model_module_version": "1.5.0",
            "_view_count": null,
            "_view_module_version": "1.5.0",
            "box_style": "",
            "layout": "IPY_MODEL_f7c5bcf686764977beb3d13a299e5a29",
            "_model_module": "@jupyter-widgets/controls",
            "children": [
              "IPY_MODEL_2cf41351e910491d9ad1c05d4edc1194",
              "IPY_MODEL_67d8fade0fc248879d234fcf6f4ddf3e"
            ]
          }
        },
        "f7c5bcf686764977beb3d13a299e5a29": {
          "model_module": "@jupyter-widgets/base",
          "model_name": "LayoutModel",
          "model_module_version": "1.2.0",
          "state": {
            "_view_name": "LayoutView",
            "grid_template_rows": null,
            "right": null,
            "justify_content": null,
            "_view_module": "@jupyter-widgets/base",
            "overflow": null,
            "_model_module_version": "1.2.0",
            "_view_count": null,
            "flex_flow": null,
            "width": null,
            "min_width": null,
            "border": null,
            "align_items": null,
            "bottom": null,
            "_model_module": "@jupyter-widgets/base",
            "top": null,
            "grid_column": null,
            "overflow_y": null,
            "overflow_x": null,
            "grid_auto_flow": null,
            "grid_area": null,
            "grid_template_columns": null,
            "flex": null,
            "_model_name": "LayoutModel",
            "justify_items": null,
            "grid_row": null,
            "max_height": null,
            "align_content": null,
            "visibility": null,
            "align_self": null,
            "height": null,
            "min_height": null,
            "padding": null,
            "grid_auto_rows": null,
            "grid_gap": null,
            "max_width": null,
            "order": null,
            "_view_module_version": "1.2.0",
            "grid_template_areas": null,
            "object_position": null,
            "object_fit": null,
            "grid_auto_columns": null,
            "margin": null,
            "display": null,
            "left": null
          }
        },
        "2cf41351e910491d9ad1c05d4edc1194": {
          "model_module": "@jupyter-widgets/controls",
          "model_name": "DropdownModel",
          "model_module_version": "1.5.0",
          "state": {
            "_options_labels": [
              "One",
              "Two",
              "Three"
            ],
            "_view_name": "DropdownView",
            "style": "IPY_MODEL_9f955a4fb0ad41c79774e780fb92e846",
            "_dom_classes": [],
            "description": "b",
            "_model_name": "DropdownModel",
            "index": 2,
            "_view_module": "@jupyter-widgets/controls",
            "_model_module_version": "1.5.0",
            "_view_count": null,
            "disabled": false,
            "_view_module_version": "1.5.0",
            "description_tooltip": null,
            "_model_module": "@jupyter-widgets/controls",
            "layout": "IPY_MODEL_c4868f18c6664580ad6fcfdc9e9e069c"
          }
        },
        "67d8fade0fc248879d234fcf6f4ddf3e": {
          "model_module": "@jupyter-widgets/output",
          "model_name": "OutputModel",
          "model_module_version": "1.0.0",
          "state": {
            "_view_name": "OutputView",
            "msg_id": "",
            "_dom_classes": [],
            "_model_name": "OutputModel",
            "outputs": [
              {
                "output_type": "display_data",
                "metadata": {
                  "tags": [],
                  "needs_background": "light"
                },
                "image/png": "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\n",
                "text/plain": "<Figure size 432x288 with 1 Axes>"
              }
            ],
            "_view_module": "@jupyter-widgets/output",
            "_model_module_version": "1.0.0",
            "_view_count": null,
            "_view_module_version": "1.0.0",
            "layout": "IPY_MODEL_2f5aa78d51654f08ac022f30ae0f7632",
            "_model_module": "@jupyter-widgets/output"
          }
        },
        "9f955a4fb0ad41c79774e780fb92e846": {
          "model_module": "@jupyter-widgets/controls",
          "model_name": "DescriptionStyleModel",
          "model_module_version": "1.5.0",
          "state": {
            "_view_name": "StyleView",
            "_model_name": "DescriptionStyleModel",
            "description_width": "",
            "_view_module": "@jupyter-widgets/base",
            "_model_module_version": "1.5.0",
            "_view_count": null,
            "_view_module_version": "1.2.0",
            "_model_module": "@jupyter-widgets/controls"
          }
        },
        "c4868f18c6664580ad6fcfdc9e9e069c": {
          "model_module": "@jupyter-widgets/base",
          "model_name": "LayoutModel",
          "model_module_version": "1.2.0",
          "state": {
            "_view_name": "LayoutView",
            "grid_template_rows": null,
            "right": null,
            "justify_content": null,
            "_view_module": "@jupyter-widgets/base",
            "overflow": null,
            "_model_module_version": "1.2.0",
            "_view_count": null,
            "flex_flow": null,
            "width": null,
            "min_width": null,
            "border": null,
            "align_items": null,
            "bottom": null,
            "_model_module": "@jupyter-widgets/base",
            "top": null,
            "grid_column": null,
            "overflow_y": null,
            "overflow_x": null,
            "grid_auto_flow": null,
            "grid_area": null,
            "grid_template_columns": null,
            "flex": null,
            "_model_name": "LayoutModel",
            "justify_items": null,
            "grid_row": null,
            "max_height": null,
            "align_content": null,
            "visibility": null,
            "align_self": null,
            "height": null,
            "min_height": null,
            "padding": null,
            "grid_auto_rows": null,
            "grid_gap": null,
            "max_width": null,
            "order": null,
            "_view_module_version": "1.2.0",
            "grid_template_areas": null,
            "object_position": null,
            "object_fit": null,
            "grid_auto_columns": null,
            "margin": null,
            "display": null,
            "left": null
          }
        },
        "2f5aa78d51654f08ac022f30ae0f7632": {
          "model_module": "@jupyter-widgets/base",
          "model_name": "LayoutModel",
          "model_module_version": "1.2.0",
          "state": {
            "_view_name": "LayoutView",
            "grid_template_rows": null,
            "right": null,
            "justify_content": null,
            "_view_module": "@jupyter-widgets/base",
            "overflow": null,
            "_model_module_version": "1.2.0",
            "_view_count": null,
            "flex_flow": null,
            "width": null,
            "min_width": null,
            "border": null,
            "align_items": null,
            "bottom": null,
            "_model_module": "@jupyter-widgets/base",
            "top": null,
            "grid_column": null,
            "overflow_y": null,
            "overflow_x": null,
            "grid_auto_flow": null,
            "grid_area": null,
            "grid_template_columns": null,
            "flex": null,
            "_model_name": "LayoutModel",
            "justify_items": null,
            "grid_row": null,
            "max_height": null,
            "align_content": null,
            "visibility": null,
            "align_self": null,
            "height": null,
            "min_height": null,
            "padding": null,
            "grid_auto_rows": null,
            "grid_gap": null,
            "max_width": null,
            "order": null,
            "_view_module_version": "1.2.0",
            "grid_template_areas": null,
            "object_position": null,
            "object_fit": null,
            "grid_auto_columns": null,
            "margin": null,
            "display": null,
            "left": null
          }
        },
        "9b3859a5f2e34493a18295ba92a7958e": {
          "model_module": "@jupyter-widgets/controls",
          "model_name": "VBoxModel",
          "model_module_version": "1.5.0",
          "state": {
            "_view_name": "VBoxView",
            "_dom_classes": [
              "widget-interact"
            ],
            "_model_name": "VBoxModel",
            "_view_module": "@jupyter-widgets/controls",
            "_model_module_version": "1.5.0",
            "_view_count": null,
            "_view_module_version": "1.5.0",
            "box_style": "",
            "layout": "IPY_MODEL_b16121ab21a5405eaa6fb98710c6c34a",
            "_model_module": "@jupyter-widgets/controls",
            "children": [
              "IPY_MODEL_70a4d761b0b4409fb4bcd55cc21d72a3",
              "IPY_MODEL_9bae0411978d4fa7a280ec6d5500dedd"
            ]
          }
        },
        "b16121ab21a5405eaa6fb98710c6c34a": {
          "model_module": "@jupyter-widgets/base",
          "model_name": "LayoutModel",
          "model_module_version": "1.2.0",
          "state": {
            "_view_name": "LayoutView",
            "grid_template_rows": null,
            "right": null,
            "justify_content": null,
            "_view_module": "@jupyter-widgets/base",
            "overflow": null,
            "_model_module_version": "1.2.0",
            "_view_count": null,
            "flex_flow": null,
            "width": null,
            "min_width": null,
            "border": null,
            "align_items": null,
            "bottom": null,
            "_model_module": "@jupyter-widgets/base",
            "top": null,
            "grid_column": null,
            "overflow_y": null,
            "overflow_x": null,
            "grid_auto_flow": null,
            "grid_area": null,
            "grid_template_columns": null,
            "flex": null,
            "_model_name": "LayoutModel",
            "justify_items": null,
            "grid_row": null,
            "max_height": null,
            "align_content": null,
            "visibility": null,
            "align_self": null,
            "height": null,
            "min_height": null,
            "padding": null,
            "grid_auto_rows": null,
            "grid_gap": null,
            "max_width": null,
            "order": null,
            "_view_module_version": "1.2.0",
            "grid_template_areas": null,
            "object_position": null,
            "object_fit": null,
            "grid_auto_columns": null,
            "margin": null,
            "display": null,
            "left": null
          }
        },
        "70a4d761b0b4409fb4bcd55cc21d72a3": {
          "model_module": "@jupyter-widgets/controls",
          "model_name": "DropdownModel",
          "model_module_version": "1.5.0",
          "state": {
            "_options_labels": [
              "Vermelho",
              "Azul",
              "Verde"
            ],
            "_view_name": "DropdownView",
            "style": "IPY_MODEL_717eb33c28624f6abd430e859df47a29",
            "_dom_classes": [],
            "description": "color",
            "_model_name": "DropdownModel",
            "index": 1,
            "_view_module": "@jupyter-widgets/controls",
            "_model_module_version": "1.5.0",
            "_view_count": null,
            "disabled": false,
            "_view_module_version": "1.5.0",
            "description_tooltip": null,
            "_model_module": "@jupyter-widgets/controls",
            "layout": "IPY_MODEL_5642c9bbffdb4fb0a5c7784b24074700"
          }
        },
        "9bae0411978d4fa7a280ec6d5500dedd": {
          "model_module": "@jupyter-widgets/output",
          "model_name": "OutputModel",
          "model_module_version": "1.0.0",
          "state": {
            "_view_name": "OutputView",
            "msg_id": "",
            "_dom_classes": [],
            "_model_name": "OutputModel",
            "outputs": [
              {
                "output_type": "display_data",
                "metadata": {
                  "tags": [],
                  "needs_background": "light"
                },
                "image/png": "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\n",
                "text/plain": "<Figure size 432x288 with 1 Axes>"
              }
            ],
            "_view_module": "@jupyter-widgets/output",
            "_model_module_version": "1.0.0",
            "_view_count": null,
            "_view_module_version": "1.0.0",
            "layout": "IPY_MODEL_9ea5b9dde236455fb7846e8bee21b9be",
            "_model_module": "@jupyter-widgets/output"
          }
        },
        "717eb33c28624f6abd430e859df47a29": {
          "model_module": "@jupyter-widgets/controls",
          "model_name": "DescriptionStyleModel",
          "model_module_version": "1.5.0",
          "state": {
            "_view_name": "StyleView",
            "_model_name": "DescriptionStyleModel",
            "description_width": "",
            "_view_module": "@jupyter-widgets/base",
            "_model_module_version": "1.5.0",
            "_view_count": null,
            "_view_module_version": "1.2.0",
            "_model_module": "@jupyter-widgets/controls"
          }
        },
        "5642c9bbffdb4fb0a5c7784b24074700": {
          "model_module": "@jupyter-widgets/base",
          "model_name": "LayoutModel",
          "model_module_version": "1.2.0",
          "state": {
            "_view_name": "LayoutView",
            "grid_template_rows": null,
            "right": null,
            "justify_content": null,
            "_view_module": "@jupyter-widgets/base",
            "overflow": null,
            "_model_module_version": "1.2.0",
            "_view_count": null,
            "flex_flow": null,
            "width": null,
            "min_width": null,
            "border": null,
            "align_items": null,
            "bottom": null,
            "_model_module": "@jupyter-widgets/base",
            "top": null,
            "grid_column": null,
            "overflow_y": null,
            "overflow_x": null,
            "grid_auto_flow": null,
            "grid_area": null,
            "grid_template_columns": null,
            "flex": null,
            "_model_name": "LayoutModel",
            "justify_items": null,
            "grid_row": null,
            "max_height": null,
            "align_content": null,
            "visibility": null,
            "align_self": null,
            "height": null,
            "min_height": null,
            "padding": null,
            "grid_auto_rows": null,
            "grid_gap": null,
            "max_width": null,
            "order": null,
            "_view_module_version": "1.2.0",
            "grid_template_areas": null,
            "object_position": null,
            "object_fit": null,
            "grid_auto_columns": null,
            "margin": null,
            "display": null,
            "left": null
          }
        },
        "9ea5b9dde236455fb7846e8bee21b9be": {
          "model_module": "@jupyter-widgets/base",
          "model_name": "LayoutModel",
          "model_module_version": "1.2.0",
          "state": {
            "_view_name": "LayoutView",
            "grid_template_rows": null,
            "right": null,
            "justify_content": null,
            "_view_module": "@jupyter-widgets/base",
            "overflow": null,
            "_model_module_version": "1.2.0",
            "_view_count": null,
            "flex_flow": null,
            "width": null,
            "min_width": null,
            "border": null,
            "align_items": null,
            "bottom": null,
            "_model_module": "@jupyter-widgets/base",
            "top": null,
            "grid_column": null,
            "overflow_y": null,
            "overflow_x": null,
            "grid_auto_flow": null,
            "grid_area": null,
            "grid_template_columns": null,
            "flex": null,
            "_model_name": "LayoutModel",
            "justify_items": null,
            "grid_row": null,
            "max_height": null,
            "align_content": null,
            "visibility": null,
            "align_self": null,
            "height": null,
            "min_height": null,
            "padding": null,
            "grid_auto_rows": null,
            "grid_gap": null,
            "max_width": null,
            "order": null,
            "_view_module_version": "1.2.0",
            "grid_template_areas": null,
            "object_position": null,
            "object_fit": null,
            "grid_auto_columns": null,
            "margin": null,
            "display": null,
            "left": null
          }
        }
      }
    }
  },
  "cells": [
    {
      "cell_type": "markdown",
      "metadata": {
        "id": "a7SHMHbKBkoQ"
      },
      "source": [
        "<img alt=\"Colaboratory logo\" width=\"15%\" src=\"https://raw.githubusercontent.com/carlosfab/escola-data-science/master/img/novo_logo_bg_claro.png\">\n",
        "\n",
        "#### **Data Science na Prática 3.0**\n",
        "*by [sigmoidal.ai](https://sigmoidal.ai)*\n",
        "\n",
        "---"
      ]
    },
    {
      "cell_type": "markdown",
      "metadata": {
        "id": "pqHp1Vk8Bpdy"
      },
      "source": [
        "Uma coisa muito interessante que podemos trazer para os nossos plots é a interatividade. Em muitos casos, ela pode ser essencial, e pode trazer resultados impressionantes para nosso projeto.\n",
        "\n",
        "Para isso, utilizaremos a biblioteca [ipywidgets](https://ipywidgets.readthedocs.io/en/latest/).\n",
        "\n",
        "\n",
        "O framework dos widgets é construído no *Comm Framework* (abreviação para comunicação, em inglês). O *Comm Framework* é um framework que permite que o kernel envie e receba mensagens em JSON do front end.\n",
        "\n",
        "<center><img src=\"https://ipywidgets.readthedocs.io/en/latest/_images/WidgetArch.png\" height=\"400px\"></center>\n",
        "\n",
        "A função `interact` (ipywidgets.interact) automaticamente cria uma interface de usuário com controles para explorar o código e os dados interativamente. Esse é o jeito mais fácil de começar widgets do IPython.\n",
        "\n",
        "No nível mais básico, o `interact` cria automaticamente um interface de usuário que controla os argumentos de uma função, e então chama a função com aqueles argumentos que você selecionou\u0010 através da UI.\n",
        "\n",
        "Portanto, para usar o `interact` você precisa definir uma função que queira explorar.\n",
        "\n",
        "<center><img src=\"https://ipywidgets.readthedocs.io/en/stable/_images/WidgetModelView.png\" height=\"400px\"></center>\n",
        "\n",
        "Para cada tipo de argumento passado para função, um tipo apropriado de widget é criado para fazer a interação, podendo ser um checkbox, slider, dropdown menu, etc.\n",
        "\n",
        "Vamos ver como isso funciona na prática."
      ]
    },
    {
      "cell_type": "code",
      "metadata": {
        "id": "S8JpsMStZqV8"
      },
      "source": [
        "# instalando o pacote\n",
        "!pip install ipywidgets -q"
      ],
      "execution_count": null,
      "outputs": []
    },
    {
      "cell_type": "markdown",
      "metadata": {
        "id": "7cTfM0FnGNfw"
      },
      "source": [
        "A documentação instrui que o código abaixo seja utilizado para que essas interações estejam disponíveis em Jupyter Notebooks. Entretanto, no Colab isso não é necessário. Caso você vá realizar esse tipo de plot em um Noteb\u0010ook local, utilize a função abaixo, e tome por referência a documentação, em tudo que diferir de lá nesse notebook."
      ]
    },
    {
      "cell_type": "code",
      "metadata": {
        "id": "3nT3EFibZ1A3"
      },
      "source": [
        "# jupyter nbextension enable --py widgetsnbextension"
      ],
      "execution_count": null,
      "outputs": []
    },
    {
      "cell_type": "markdown",
      "metadata": {
        "id": "UG1UmxnnGgYE"
      },
      "source": [
        "Uma vez instalados, precisamos importar os pacotes. Aqui, importaremos algumas funções específicas do pacote, e o pacote inteiro, para facilitar nosso código."
      ]
    },
    {
      "cell_type": "code",
      "metadata": {
        "id": "TQ-tvm4qZ7d3"
      },
      "source": [
        "# importando os pacotes necessários\n",
        "import numpy as np\n",
        "import pandas as pd\n",
        "import matplotlib.pyplot as plt\n",
        "from ipywidgets import interact, fixed, interact_manual\n",
        "import ipywidgets as widgets"
      ],
      "execution_count": null,
      "outputs": []
    },
    {
      "cell_type": "markdown",
      "metadata": {
        "id": "MSbV3a2XGttd"
      },
      "source": [
        "Abaixo, vamos criar uma função normal. Aqui, podemos ver que ao chamar a função, passamos um parâmetro, que tomará o lugar de x. Podemos alterar esse valor, e rodar a função novamente, modificando o plot.\n",
        "\n",
        "Mas, com o `ipywidgets` nós conseguimos tornar esse processo mais fácil, por meio de uma UI interativa."
      ]
    },
    {
      "cell_type": "code",
      "metadata": {
        "colab": {
          "base_uri": "https://localhost:8080/",
          "height": 269
        },
        "id": "4rHIUEdrd0VV",
        "outputId": "2471b179-7a68-4e06-970a-9cf3349797e1"
      },
      "source": [
        "# criando uma função\n",
        "def f(x):\n",
        "  plt.plot(np.arange(0,10), x*np.arange(0,10))\n",
        "  plt.ylim(-30,30)\n",
        "f(0)"
      ],
      "execution_count": null,
      "outputs": [
        {
          "output_type": "display_data",
          "data": {
            "image/png": "[encoded data removed]",
            "text/plain": [
              "<Figure size 432x288 with 1 Axes>"
            ]
          },
          "metadata": {
            "tags": [],
            "needs_background": "light"
          }
        }
      ]
    },
    {
      "cell_type": "markdown",
      "metadata": {
        "id": "gLKyMt2DG9VO"
      },
      "source": [
        "Para isso, vamos chamar a função que definimos anteriormente dentro da função interact do `ipywidget`.\n",
        "\n",
        "Vamos passar como argumento a função, e o range de parâmetros que x pode assumir. O primeiro valor será o mínimo, o segundo o máximo, e o terceiro seria nosso step.\n",
        "\n",
        "Com tudo definido, basta rodar e utilizar o slider criado. A biblioteca usar um slider, pois vê que estamos utilizando um `int`, então, entende que essa seria a melhor UI para o caso."
      ]
    },
    {
      "cell_type": "code",
      "metadata": {
        "colab": {
          "base_uri": "https://localhost:8080/",
          "height": 318,
          "referenced_widgets": [
            "8cce40d071ce4ef2980f6479f239d696",
            "bb0a5e5f5efb479a9dd4c46e3652f955",
            "56ed44ed57ce466c8a811eb2f6cb5f10",
            "080fd88e44874a9ca9a8fb062cf57592",
            "466aaa5c452542d2a4681ff0e5297df2",
            "ed02c925200944348b39b2566cd27cc2",
            "fea17be725a942c39e629d04dc9b0e8b"
          ]
        },
        "id": "m8HgWsrFjWQx",
        "outputId": "df0e1b78-460b-476c-840e-5288a01c9213"
      },
      "source": [
        "# muda o slope, sabendo que é um integer, ele sabe que é slider\n",
        "def f(x):\n",
        "  plt.plot(np.arange(0,10), x*np.arange(0,10))\n",
        "  plt.ylim(-30,30)\n",
        "interact(f, x=(-5,10,1))\n"
      ],
      "execution_count": null,
      "outputs": [
        {
          "output_type": "display_data",
          "data": {
            "application/vnd.jupyter.widget-view+json": {
              "model_id": "8cce40d071ce4ef2980f6479f239d696",
              "version_minor": 0,
              "version_major": 2
            },
            "text/plain": [
              "interactive(children=(IntSlider(value=2, description='x', max=10, min=-5), Output()), _dom_classes=('widget-in…"
            ]
          },
          "metadata": {
            "tags": []
          }
        },
        {
          "output_type": "execute_result",
          "data": {
            "text/plain": [
              "<function __main__.f>"
            ]
          },
          "metadata": {
            "tags": []
          },
          "execution_count": 24
        }
      ]
    },
    {
      "cell_type": "markdown",
      "metadata": {
        "id": "Ungnx_hzHal2"
      },
      "source": [
        "Se passarmos um `bool` como parâmetro para x, dentro do interact, ao invés de um slider, teremos um checkbox, onde a caixa preenchida seria True, e não preenchida, False."
      ]
    },
    {
      "cell_type": "code",
      "metadata": {
        "colab": {
          "base_uri": "https://localhost:8080/",
          "height": 314,
          "referenced_widgets": [
            "1d187846d16b4e0c8e5dccaeb19ffdba",
            "d6f9d64df51f432d846d0ea014f54383",
            "f02585ff95284483a6b7151d39575e66",
            "06b5b7de714e4a63a22b9e15aa492969",
            "d5c34587fe5043ab964297fc93ad9c3a",
            "04ec56f2ad254fdf84c15512390195ba",
            "d106620f9b25465cbbc1d98b630f775e"
          ]
        },
        "id": "m6GcZA3vjaKw",
        "outputId": "5a8697d2-aacd-40e2-a758-81ef32c2eb09"
      },
      "source": [
        "# checkbox para booleanos#\n",
        "rands = np.random.rand(100)\n",
        "def f(x):\n",
        "  if x:\n",
        "    plt.plot(rands, 'b')\n",
        "  else:\n",
        "    plt.plot(rands, 'r')\n",
        "interact(f, x=True)"
      ],
      "execution_count": null,
      "outputs": [
        {
          "output_type": "display_data",
          "data": {
            "application/vnd.jupyter.widget-view+json": {
              "model_id": "1d187846d16b4e0c8e5dccaeb19ffdba",
              "version_minor": 0,
              "version_major": 2
            },
            "text/plain": [
              "interactive(children=(Checkbox(value=True, description='x'), Output()), _dom_classes=('widget-interact',))"
            ]
          },
          "metadata": {
            "tags": []
          }
        },
        {
          "output_type": "execute_result",
          "data": {
            "text/plain": [
              "<function __main__.f>"
            ]
          },
          "metadata": {
            "tags": []
          },
          "execution_count": 25
        }
      ]
    },
    {
      "cell_type": "markdown",
      "metadata": {
        "id": "skI4ZJGgHkRQ"
      },
      "source": [
        "Pordemos também passar um `decorator`, algo que vai servir como decorador para o nosso plot. Nesse caso, queremos modificar o nome do título do plot, por exemplo."
      ]
    },
    {
      "cell_type": "code",
      "metadata": {
        "colab": {
          "base_uri": "https://localhost:8080/",
          "height": 314,
          "referenced_widgets": [
            "18839095191946a3a7c2603d263ec9bf",
            "44524c6552804058930d0f075cf6203d",
            "cdcd5e9e24c046d4808c8b9a53d860e9",
            "58258bd53f2a420dab30aca522e32276",
            "d65feca09b764db18c7ad94144349af8",
            "6995d0f16ae545169e766438e8d35dcf",
            "bb5242c10a53456d9fbad90578e6e78c"
          ]
        },
        "id": "f9otkKkVxM_a",
        "outputId": "9a525c3a-c7d3-47fd-e69e-18546b57763e"
      },
      "source": [
        "# decorator. Identifica a string e entrega um text box\n",
        "\n",
        "@interact(x='Sigmoidal')\n",
        "def f(x):\n",
        "  plt.title(x)\n"
      ],
      "execution_count": null,
      "outputs": [
        {
          "output_type": "display_data",
          "data": {
            "application/vnd.jupyter.widget-view+json": {
              "model_id": "18839095191946a3a7c2603d263ec9bf",
              "version_minor": 0,
              "version_major": 2
            },
            "text/plain": [
              "interactive(children=(Text(value='Sigmoidal', description='x'), Output()), _dom_classes=('widget-interact',))"
            ]
          },
          "metadata": {
            "tags": []
          }
        }
      ]
    },
    {
      "cell_type": "markdown",
      "metadata": {
        "id": "0xY9p-EeHwya"
      },
      "source": [
        "Também é importante ressaltar que não estamos presos a apenas um widget por plot. Basta fazer as mudanças na função, e passar os parâmetros no interact.\n",
        "\n",
        "Aqui mostramos também que ele define um range e um step automaticamente, mas você também pode escolher passar como mostramos nos exemplos anteriores."
      ]
    },
    {
      "cell_type": "code",
      "metadata": {
        "colab": {
          "base_uri": "https://localhost:8080/",
          "height": 366,
          "referenced_widgets": [
            "4ce64774ad90489298f27eb26c1abac2",
            "b6fec773003f4f98af0e7306a3573b5d",
            "97455931baaa4ef0aff87b711e2ea62d",
            "e6e7d5df69f747919b7d8c254d9d839b",
            "6ab57798d28d4a6683780f55196809e8",
            "24f33c931bad4b72927a7ac5557485ee",
            "966f550ba423447ba39f5e08500da53d",
            "603988bf510d4fa29f617c6a2a576d3f",
            "9dcd8c4003b64186af6867f836f89ad9",
            "47428384c24c4fbe9c5dfb511e1fe10e"
          ]
        },
        "id": "s3Gv9pAhxqfX",
        "outputId": "9c619cd4-82df-4a4e-b4a5-f752ce743a96"
      },
      "source": [
        "# multiplos widgets\n",
        "def f(a,b):\n",
        "  plt.plot(np.arange(0,10), a*np.power(np.arange(0,10), b))\n",
        "  plt.title(\"Lei de Potência: $x=ay^b$\")\n",
        "interact(f, a=1, b=3)"
      ],
      "execution_count": null,
      "outputs": [
        {
          "output_type": "display_data",
          "data": {
            "application/vnd.jupyter.widget-view+json": {
              "model_id": "4ce64774ad90489298f27eb26c1abac2",
              "version_minor": 0,
              "version_major": 2
            },
            "text/plain": [
              "interactive(children=(IntSlider(value=1, description='a', max=3, min=-1), IntSlider(value=3, description='b', …"
            ]
          },
          "metadata": {
            "tags": []
          }
        },
        {
          "output_type": "execute_result",
          "data": {
            "text/plain": [
              "<function __main__.f>"
            ]
          },
          "metadata": {
            "tags": []
          },
          "execution_count": 27
        }
      ]
    },
    {
      "cell_type": "markdown",
      "metadata": {
        "id": "g2a3geNVJQeG"
      },
      "source": [
        "Se a personalização é importante, ter valores fixos também pode ser.\n",
        "\n"
      ]
    },
    {
      "cell_type": "code",
      "metadata": {
        "colab": {
          "base_uri": "https://localhost:8080/",
          "height": 334,
          "referenced_widgets": [
            "a3b5f9b412f94d3e8f4af39023bf3081",
            "bb0b01a23d744eeeb6e444a44ed7e34f",
            "9af3f8960eef43648f15b1254cffb99a",
            "5d7350d7e57047f695f48bf93697b874",
            "b14aa1d7c0f14204955faf254c043448",
            "3ace5dc2782c431195330201ee9701f8",
            "bdb03b141d02426088d8a60f6882a29a"
          ]
        },
        "id": "IQtvGEdPyUN6",
        "outputId": "14bb952d-4900-42f3-b082-af6a736c3576"
      },
      "source": [
        "# valores fixos\n",
        "def f(a,b):\n",
        "  plt.plot(np.arange(0,10), a*np.power(np.arange(0,10), b))\n",
        "  plt.title(\"Lei da Potência: $x=ay^b$\")\n",
        "interact(f, a=1, b=fixed(2))"
      ],
      "execution_count": null,
      "outputs": [
        {
          "output_type": "display_data",
          "data": {
            "application/vnd.jupyter.widget-view+json": {
              "model_id": "a3b5f9b412f94d3e8f4af39023bf3081",
              "version_minor": 0,
              "version_major": 2
            },
            "text/plain": [
              "interactive(children=(IntSlider(value=1, description='a', max=3, min=-1), Output()), _dom_classes=('widget-int…"
            ]
          },
          "metadata": {
            "tags": []
          }
        },
        {
          "output_type": "execute_result",
          "data": {
            "text/plain": [
              "<function __main__.f>"
            ]
          },
          "metadata": {
            "tags": []
          },
          "execution_count": 28
        }
      ]
    },
    {
      "cell_type": "code",
      "metadata": {
        "colab": {
          "base_uri": "https://localhost:8080/",
          "height": 334,
          "referenced_widgets": [
            "d61acdc598124bafb7a7255f15fc6115",
            "976612d1fc2b4ec088fb5f1bf1117b40",
            "1dfdbc117298438fb8ab95870db4664b",
            "56b31f854cd24e73b8980dd909049740",
            "e2ab3e659081465eb0f6faba7554faf8",
            "0e6cc5e734d84d529da0999aea620533",
            "15d40f4b5da14fe7ab7f276b1c81d31e"
          ]
        },
        "id": "6NNYr9HbJV3w",
        "outputId": "fac4169f-7733-4f92-c20b-93b1cd568a52"
      },
      "source": [
        "# valores fixos, mas com o b definido\n",
        "def f(a):\n",
        "  plt.plot(np.arange(0,10), a*np.power(np.arange(0,10), 2))\n",
        "  plt.title(\"Lei da Potência: $x=ay^b$\")\n",
        "interact(f, a=1)"
      ],
      "execution_count": null,
      "outputs": [
        {
          "output_type": "display_data",
          "data": {
            "application/vnd.jupyter.widget-view+json": {
              "model_id": "d61acdc598124bafb7a7255f15fc6115",
              "version_minor": 0,
              "version_major": 2
            },
            "text/plain": [
              "interactive(children=(IntSlider(value=1, description='a', max=3, min=-1), Output()), _dom_classes=('widget-int…"
            ]
          },
          "metadata": {
            "tags": []
          }
        },
        {
          "output_type": "execute_result",
          "data": {
            "text/plain": [
              "<function __main__.f>"
            ]
          },
          "metadata": {
            "tags": []
          },
          "execution_count": 29
        }
      ]
    },
    {
      "cell_type": "markdown",
      "metadata": {
        "id": "EMG98VJaJnMR"
      },
      "source": [
        "Para criar um menu dropdown para as interações, basta passar uma lista como parâmetro.\n",
        "\n",
        "Aqui, a nossa função vai receber o parâmetro cor através do interact.\n",
        "\n",
        "A cor vai fazer parte de uma lista de cores, que vamos passar como parâmetro dentro da função do interact."
      ]
    },
    {
      "cell_type": "code",
      "metadata": {
        "colab": {
          "base_uri": "https://localhost:8080/",
          "height": 334,
          "referenced_widgets": [
            "1a71edc0b482462e9bcfe3deeedf79b1",
            "e1037b9030c943728add84f55674dee2",
            "c47e123b7b20494da9d71a3e74ee93b3",
            "95a82d614fec45c3ba14da00b368ff92",
            "80fc5fab26124c88a6fc1ef5a2a7d67c",
            "b107f397d34942a38b83281575167036",
            "a588ecc540244e41b0ee49a75b7a71f4"
          ]
        },
        "id": "WD7t5zAx03ME",
        "outputId": "e80381d4-ea67-4a7a-f802-c37f02c28b26"
      },
      "source": [
        "# dropdown de listas\n",
        "\n",
        "def f(color):\n",
        "  plt.plot(np.arange(0,10), np.power(np.arange(0,10), 5), c=color)\n",
        "  plt.title(\"Lei da Potência: $x=ay^b$\")\n",
        "colors=['Red', 'Blue', 'Green']\n",
        "interact(f, color=colors)"
      ],
      "execution_count": null,
      "outputs": [
        {
          "output_type": "display_data",
          "data": {
            "application/vnd.jupyter.widget-view+json": {
              "model_id": "1a71edc0b482462e9bcfe3deeedf79b1",
              "version_minor": 0,
              "version_major": 2
            },
            "text/plain": [
              "interactive(children=(Dropdown(description='color', options=('Red', 'Blue', 'Green'), value='Red'), Output()),…"
            ]
          },
          "metadata": {
            "tags": []
          }
        },
        {
          "output_type": "execute_result",
          "data": {
            "text/plain": [
              "<function __main__.f>"
            ]
          },
          "metadata": {
            "tags": []
          },
          "execution_count": 30
        }
      ]
    },
    {
      "cell_type": "markdown",
      "metadata": {
        "id": "0FVwCtdTKBOD"
      },
      "source": [
        "Também é possível criar um dropdown com dicionários. Poderíamos, por exemplo, ter passado uam lista de ints, e modificaríamos o plot a partir de um dropdown, da mesma forma que faríamos com um slider.\n",
        "\n",
        "Mas e se quiséssimos escrever o nome do número e fazer com que a função receba o número como int? Dicionários!\n",
        "\n",
        "Passamos as opções do dropdown como chaves e os valores que a função irá receber como valores.\n",
        "\n",
        "Então é só passar o dicionário como parâmetro dentro do interact."
      ]
    },
    {
      "cell_type": "code",
      "metadata": {
        "colab": {
          "base_uri": "https://localhost:8080/",
          "height": 334,
          "referenced_widgets": [
            "c27840992b014e5eb243b963ac0c9b43",
            "f7c5bcf686764977beb3d13a299e5a29",
            "2cf41351e910491d9ad1c05d4edc1194",
            "67d8fade0fc248879d234fcf6f4ddf3e",
            "9f955a4fb0ad41c79774e780fb92e846",
            "c4868f18c6664580ad6fcfdc9e9e069c",
            "2f5aa78d51654f08ac022f30ae0f7632"
          ]
        },
        "id": "wPSg6r5o1kIE",
        "outputId": "a42d1a50-4f76-4b73-aa9c-352097b0f754"
      },
      "source": [
        "# dropdown de dicionários \n",
        "\n",
        "def f(b):\n",
        "  plt.plot(np.arange(0,10), np.power(np.arange(0,10), b))\n",
        "  plt.title(\"Power Law: $x=ay^b$\")\n",
        "powers = {'One':1, 'Two':2, 'Three':3}\n",
        "interact(f, b=powers)"
      ],
      "execution_count": null,
      "outputs": [
        {
          "output_type": "display_data",
          "data": {
            "application/vnd.jupyter.widget-view+json": {
              "model_id": "c27840992b014e5eb243b963ac0c9b43",
              "version_minor": 0,
              "version_major": 2
            },
            "text/plain": [
              "interactive(children=(Dropdown(description='b', options={'One': 1, 'Two': 2, 'Three': 3}, value=1), Output()),…"
            ]
          },
          "metadata": {
            "tags": []
          }
        },
        {
          "output_type": "execute_result",
          "data": {
            "text/plain": [
              "<function __main__.f>"
            ]
          },
          "metadata": {
            "tags": []
          },
          "execution_count": 31
        }
      ]
    },
    {
      "cell_type": "code",
      "metadata": {
        "id": "7SDpvPIk25Vh",
        "colab": {
          "base_uri": "https://localhost:8080/",
          "height": 334,
          "referenced_widgets": [
            "9b3859a5f2e34493a18295ba92a7958e",
            "b16121ab21a5405eaa6fb98710c6c34a",
            "70a4d761b0b4409fb4bcd55cc21d72a3",
            "9bae0411978d4fa7a280ec6d5500dedd",
            "717eb33c28624f6abd430e859df47a29",
            "5642c9bbffdb4fb0a5c7784b24074700",
            "9ea5b9dde236455fb7846e8bee21b9be"
          ]
        },
        "outputId": "772a404e-874c-486e-9d8c-258d06f92311"
      },
      "source": [
        "# dropdown de dicionários\n",
        "\n",
        "def f(color):\n",
        "  plt.plot(np.arange(0,10), np.power(np.arange(0,10), 5), c=color)\n",
        "  plt.title(\"Lei da Potência: $x=ay^b$\")\n",
        "colors={'Vermelho':'Red', 'Azul':'Blue', 'Verde':'Green'}\n",
        "interact(f, color=colors)"
      ],
      "execution_count": null,
      "outputs": [
        {
          "output_type": "display_data",
          "data": {
            "application/vnd.jupyter.widget-view+json": {
              "model_id": "9b3859a5f2e34493a18295ba92a7958e",
              "version_minor": 0,
              "version_major": 2
            },
            "text/plain": [
              "interactive(children=(Dropdown(description='color', options={'Vermelho': 'Red', 'Azul': 'Blue', 'Verde': 'Gree…"
            ]
          },
          "metadata": {
            "tags": []
          }
        },
        {
          "output_type": "execute_result",
          "data": {
            "text/plain": [
              "<function __main__.f>"
            ]
          },
          "metadata": {
            "tags": []
          },
          "execution_count": 32
        }
      ]
    },
    {
      "cell_type": "code",
      "metadata": {
        "id": "ceneMeNJQHY2"
      },
      "source": [],
      "execution_count": null,
      "outputs": []
    }
  ]
}